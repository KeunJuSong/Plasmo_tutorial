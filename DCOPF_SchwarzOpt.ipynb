{
 "cells": [
  {
   "cell_type": "markdown",
   "metadata": {},
   "source": [
    "# Overlapping schwarz decomposition for DCOPF\n",
    "\n",
    "* 현재 SchwarzOpt.jl에 bug가 확인되어서, 관리자가 소스코드를 일부 수정함. 따라서 Stay tune 해야함..."
   ]
  },
  {
   "cell_type": "markdown",
   "metadata": {},
   "source": [
    "* Load data"
   ]
  },
  {
   "cell_type": "code",
   "execution_count": 1,
   "metadata": {},
   "outputs": [],
   "source": [
    "using LightGraphs, Random, LinearAlgebra, Printf, DelimitedFiles, SparseArrays, PowerModels"
   ]
  },
  {
   "cell_type": "code",
   "execution_count": 2,
   "metadata": {},
   "outputs": [
    {
     "name": "stdout",
     "output_type": "stream",
     "text": [
      "\u001b[32m[info | PowerModels]: Suppressing information and warning messages for the rest of this session.  Use the Memento package for more fine-grained control of logging.\u001b[39m\n"
     ]
    }
   ],
   "source": [
    "PowerModels.silence()"
   ]
  },
  {
   "cell_type": "code",
   "execution_count": 3,
   "metadata": {},
   "outputs": [
    {
     "data": {
      "text/plain": [
       "get_data (generic function with 1 method)"
      ]
     },
     "metadata": {},
     "output_type": "display_data"
    }
   ],
   "source": [
    "function get_data(path)\n",
    "    data = PowerModels.parse_file(path)\n",
    "    A = PowerModels.calc_susceptance_matrix(data)\n",
    "\n",
    "    args = Dict()\n",
    "    args[:N] = size(A.matrix, 1) # number of buses\n",
    "    args[:y] = A.matrix\n",
    "    args[:del] = spzeros(args[:N],args[:N]) # \n",
    "    args[:g] = LightGraphs.Graph(args[:N]) # the lightgraph; assign the nodes\n",
    "    for e in values(data[\"branch\"])\n",
    "        i = A.bus_to_idx[e[\"f_bus\"]]\n",
    "        j = A.bus_to_idx[e[\"t_bus\"]]\n",
    "        LightGraphs.add_edge!(args[:g],i,j) # assign the edges.\n",
    "        args[:del][i,j] = e[\"angmin\"]\n",
    "        args[:del][j,i] = e[\"angmin\"]\n",
    "    end\n",
    "\n",
    "    # voltage angle limits\n",
    "    args[:val] = -ones(args[:N])*Inf # lower bound\n",
    "    args[:vau] = ones(args[:N])*Inf # upper bound\n",
    "    args[:ref] = A.bus_to_idx[PowerModels.reference_bus(data)[\"index\"]] # reference buses\n",
    "    args[:val][args[:ref]] = 0; args[:vau][args[:ref]] = 0 # the voltage angle of reference bus is 0.\n",
    "\n",
    "\n",
    "    gens = PowerModels.bus_gen_lookup(data[\"gen\"], data[\"bus\"]) # bus index 중 generator bus index에 대해서만 관련 PV bus 정보 제공하는 함수. (vg, mbase, source_id, pg, model, shutdown, startup, index, cost, qg)\n",
    "    # generator cost coefficients\n",
    "    args[:c1] = [[1e6, -1e6] for i=1:args[:N]]\n",
    "    args[:c2] = [[.0, .0] for i=1:args[:N]]\n",
    "    args[:sl] = [[.0,-1e2] for i=1:args[:N]] # generator power min?\n",
    "    args[:su] = [[1e2,.0] for i=1:args[:N]] # generator power max?\n",
    "    args[:ng] = 2*ones(Int64,args[:N]) # number of generators? <= TODO: Need to check this.\n",
    "\n",
    "    for i=1:args[:N] # for each bus\n",
    "        bus = A.idx_to_bus[i] # return to the bus index from the index of matrix.\n",
    "        for j=1:length(gens[bus]) # 해당 PV bus에 있는 발전기 개수 별 loop?\n",
    "            if length(gens[bus][j][\"cost\"]) != 0\n",
    "                # push! <= list append와 같은 개념\n",
    "                push!(args[:c1][i], gens[bus][j][\"cost\"][1])\n",
    "                push!(args[:c2][i], gens[bus][j][\"cost\"][2])\n",
    "                push!(args[:sl][i], gens[bus][j][\"pmin\"])\n",
    "                push!(args[:su][i], gens[bus][j][\"pmax\"])\n",
    "                args[:ng][i] += 1\n",
    "            end\n",
    "        end\n",
    "    end\n",
    "\n",
    "    args[:Ng] = sum(args[:ng]) # <= TODO: Need to check this.\n",
    "\n",
    "    # PQ bus의 Pd 저장?\n",
    "    args[:sd] = zeros(args[:N])\n",
    "    for v in values(data[\"load\"])\n",
    "        args[:sd][A.bus_to_idx[v[\"load_bus\"]]] = v[\"pd\"]\n",
    "    end\n",
    "\n",
    "    return args\n",
    "end"
   ]
  },
  {
   "cell_type": "code",
   "execution_count": 4,
   "metadata": {},
   "outputs": [
    {
     "data": {
      "text/plain": [
       "Dict{Any, Any} with 14 entries:\n",
       "  :su  => [[100.0, 0.0], [100.0, 0.0, 1.0], [100.0, 0.0], [100.0, 0.0], [100.0,…\n",
       "  :vau => [Inf, Inf, Inf, Inf, Inf, Inf, Inf, Inf, Inf, Inf  …  Inf, Inf, Inf, …\n",
       "  :c1  => [[1.0e6, -1.0e6], [1.0e6, -1.0e6, 4814.49], [1.0e6, -1.0e6], [1.0e6, …\n",
       "  :c2  => [[0.0, 0.0], [0.0, 0.0, 0.0], [0.0, 0.0], [0.0, 0.0], [0.0, 0.0], [0.…\n",
       "  :ng  => [2, 3, 2, 2, 2, 3, 2, 3, 2, 2  …  2, 2, 2, 3, 2, 2, 3, 3, 2, 2]\n",
       "  :N   => 9241\n",
       "  :val => [-Inf, -Inf, -Inf, -Inf, -Inf, -Inf, -Inf, -Inf, -Inf, -Inf  …  -Inf,…\n",
       "  :ref => 4231\n",
       "  :g   => {9241, 14207} undirected simple Int64 graph\n",
       "  :sd  => [3.784, 0.0, 1.51, 1.7141, 0.4595, 0.0, 0.3103, 0.0, 0.143, 1.34  …  …\n",
       "  :y   => sparse([1, 2316, 7639, 7835, 2, 2447, 4898, 3, 8189, 8676  …  9237, 1…\n",
       "  :del => sparse([2316, 7639, 7835, 2447, 4898, 8189, 8676, 1813, 5241, 9018  ……\n",
       "  :Ng  => 19927\n",
       "  :sl  => [[0.0, -100.0], [0.0, -100.0, -1.0853], [0.0, -100.0], [0.0, -100.0],…"
      ]
     },
     "metadata": {},
     "output_type": "display_data"
    }
   ],
   "source": [
    "path = \"/home/kjsong/workspace_skj/Plasmo_tutorial/data/pglib_opf_case9241_pegase.m\"\n",
    "\n",
    "args = get_data(path)"
   ]
  },
  {
   "cell_type": "markdown",
   "metadata": {},
   "source": [
    "* Powergrid\n",
    "    * How to model the DCOPF in terms of graph structure using Plasmo.jl (**Most important part**)\n",
    "    * TODO: ACOPF로 문제 변경 시 달라지는 점이 무엇인지 파악"
   ]
  },
  {
   "cell_type": "code",
   "execution_count": 5,
   "metadata": {},
   "outputs": [],
   "source": [
    "using Plasmo"
   ]
  },
  {
   "cell_type": "code",
   "execution_count": 6,
   "metadata": {},
   "outputs": [
    {
     "data": {
      "text/plain": [
       "28414-element Vector{LinkConstraintRef}:\n",
       " line_coupling_i[OptiNode w/ 3 Variable(s) and 2 Constraint(s)]: lines[1][:va_i] - buses[1][:va] = 0\n",
       " line_coupling_i[OptiNode w/ 3 Variable(s) and 2 Constraint(s)]: lines[2][:va_i] - buses[1][:va] = 0\n",
       " line_coupling_i[OptiNode w/ 3 Variable(s) and 2 Constraint(s)]: lines[3][:va_i] - buses[1][:va] = 0\n",
       " line_coupling_i[OptiNode w/ 3 Variable(s) and 2 Constraint(s)]: lines[4][:va_i] - buses[2][:va] = 0\n",
       " line_coupling_i[OptiNode w/ 3 Variable(s) and 2 Constraint(s)]: lines[5][:va_i] - buses[2][:va] = 0\n",
       " line_coupling_i[OptiNode w/ 3 Variable(s) and 2 Constraint(s)]: lines[6][:va_i] - buses[3][:va] = 0\n",
       " line_coupling_i[OptiNode w/ 3 Variable(s) and 2 Constraint(s)]: lines[7][:va_i] - buses[3][:va] = 0\n",
       " line_coupling_i[OptiNode w/ 3 Variable(s) and 2 Constraint(s)]: lines[8][:va_i] - buses[4][:va] = 0\n",
       " line_coupling_i[OptiNode w/ 3 Variable(s) and 2 Constraint(s)]: lines[9][:va_i] - buses[4][:va] = 0\n",
       " line_coupling_i[OptiNode w/ 3 Variable(s) and 2 Constraint(s)]: lines[10][:va_i] - buses[4][:va] = 0\n",
       " ⋮\n",
       " line_coupling_j[OptiNode w/ 3 Variable(s) and 2 Constraint(s)]: lines[14199][:va_j] - buses[9094][:va] = 0\n",
       " line_coupling_j[OptiNode w/ 3 Variable(s) and 2 Constraint(s)]: lines[14200][:va_j] - buses[9203][:va] = 0\n",
       " line_coupling_j[OptiNode w/ 3 Variable(s) and 2 Constraint(s)]: lines[14201][:va_j] - buses[9088][:va] = 0\n",
       " line_coupling_j[OptiNode w/ 3 Variable(s) and 2 Constraint(s)]: lines[14202][:va_j] - buses[9067][:va] = 0\n",
       " line_coupling_j[OptiNode w/ 3 Variable(s) and 2 Constraint(s)]: lines[14203][:va_j] - buses[9109][:va] = 0\n",
       " line_coupling_j[OptiNode w/ 3 Variable(s) and 2 Constraint(s)]: lines[14204][:va_j] - buses[9155][:va] = 0\n",
       " line_coupling_j[OptiNode w/ 3 Variable(s) and 2 Constraint(s)]: lines[14205][:va_j] - buses[9188][:va] = 0\n",
       " line_coupling_j[OptiNode w/ 3 Variable(s) and 2 Constraint(s)]: lines[14206][:va_j] - buses[9148][:va] = 0\n",
       " line_coupling_j[OptiNode w/ 3 Variable(s) and 2 Constraint(s)]: lines[14207][:va_j] - buses[9176][:va] = 0"
      ]
     },
     "metadata": {},
     "output_type": "display_data"
    }
   ],
   "source": [
    "# 뭐에 대한 parameter?\n",
    "gamma = 1e5 # the regularization parameter of voltage angle difference. \n",
    "oms = [1, 4, 7]\n",
    "max_iter = 1000\n",
    "scl = 1\n",
    "\n",
    "g = args[:g] # LightGraphs type\n",
    "N_buses = LightGraphs.nv(g) # get the number of nodes in graph.\n",
    "N_lines = LightGraphs.ne(g) # get the number of edges in graph.\n",
    "y = args[:y] # get the Y bus matrix \n",
    "del = args[:del] # get the voltage angle difference lower bound matrix\n",
    "\n",
    "powergrid = Plasmo.OptiGraph()\n",
    "# 여기가 MAIN PART. i.e., power network 최적화 문제를 graph로 어떻게 모델링 하는지.\n",
    "Plasmo.@optinode(powergrid, buses[1:N_buses]) # create node buses\n",
    "Plasmo.@optinode(powergrid, lines[1:N_lines]) # create transmission lines <= 일반적으로 power network의 line은 edge로 생각하겠지만, 여기서는 최적화 문제를 graph로 표현할때 line에 대한 variable (branch power flow)이 있기 때문에 node로 모델링.\n",
    "\n",
    "# 각 bus별로 from bus인지 to bus인지 각 line에 따라 정해져 있는데, 이를 bus 관점에서 line을 바라보는, 즉 어떤 line이 bus에 대해서 들어오는 line인지 아님 나가는 line인지를 볼 수 있는 dict.\n",
    "node_map_in = Dict((bus, Plasmo.OptiNode[]) for bus in buses) \n",
    "node_map_out = Dict((bus, Plasmo.OptiNode[]) for bus in buses)\n",
    "\n",
    "line_map = Dict() # 각 transmission line에 대해 연결된 bus pair; element type이 graph의 node로 모델링된 최적화 변수들임.\n",
    "edge_map = Dict() # 각 transmission line이 어떤 bus pair에 해당되어 있는지에 대한 dict.\n",
    "B = Dict() # 각 transmission line의 susceptance\n",
    "angle_rate = Dict() # 각 transmission line의 bus pair에 대한 voltage angle difference limit\n",
    "ngens = Dict()\n",
    "load_map = Dict()\n",
    "\n",
    "for (i,edge) in enumerate(LightGraphs.edges(g))\n",
    "    line = lines[i]\n",
    "    v_from = edge.src # <= LightGraphs package의 method: edge에 해당하는 node들 중 source node 불러오기\n",
    "    v_to = edge.dst # <= LightGraphs package의 method: edge에 해당하는 node들 중 destination node 불러오기\n",
    "\n",
    "    edge_map[(v_from, v_to)] = line\n",
    "\n",
    "    B[line] = y[v_from,v_to]\n",
    "    angle_rate[line] = del[v_from,v_to]\n",
    "\n",
    "    bus_from = buses[v_from]\n",
    "    bus_to = buses[v_to]\n",
    "    bus_vec = [bus_from, bus_to] # vector form\n",
    "    line_map[line] = bus_vec \n",
    "\n",
    "    push!(node_map_in[bus_to], line)\n",
    "    push!(node_map_out[bus_from], line)\n",
    "end\n",
    "\n",
    "for i = 1:N_buses\n",
    "    neighs = LightGraphs.neighbors(g,i)\n",
    "    bus = buses[i]\n",
    "\n",
    "    ngens[bus] = args[:ng][i] # 이건 뭘 의미하는건지...\n",
    "    load_map[bus] = args[:sd][i] # Bus 별 Pd 값 저장\n",
    "\n",
    "    # Plasmo OptiNode(i.e., power network의 bus 및 line)에 변수 및 제약조건 설정에 필요한 값 할당.\n",
    "    bus.ext[:c1] = args[:c1][i] \n",
    "    bus.ext[:c2] = args[:c2][i]\n",
    "    bus.ext[:va_lower] = args[:val][i]\n",
    "    bus.ext[:va_upper] = args[:vau][i]\n",
    "    bus.ext[:gen_lower] = args[:sl][i]\n",
    "    bus.ext[:gen_upper] = args[:su][i]\n",
    "end\n",
    "\n",
    "for line in lines\n",
    "    bus_from = line_map[line][1]\n",
    "    bus_to = line_map[line][2]\n",
    "    Plasmo.@variable(line, va_i, start=0)\n",
    "    Plasmo.@variable(line, va_j, start=0)\n",
    "    Plasmo.@variable(line, flow, start=0) # i.e., branch power flow\n",
    "    Plasmo.@constraint(line, flow==B[line]*(va_i - va_j)) # power flow equation constraint.\n",
    "    delta = angle_rate[line]\n",
    "    Plasmo.@constraint(line, delta <= (va_i - va_j) <= -delta) # voltage angle difference constraint.\n",
    "    Plasmo.@objective(line, Min, 1/4*gamma*(va_i - va_j)^2) # penalty term of objective function (18a).\n",
    "end\n",
    "\n",
    "dual_links = Plasmo.LinkConstraintRef[] # link constraints들을 저장하고 관리할 수 있는 storage 개념의 리스트.\n",
    "# primal_links = Plasmo.LinkConstraintRef[]\n",
    "for (i,bus) in enumerate(buses)\n",
    "    va_lower = bus.ext[:va_lower]\n",
    "    va_upper = bus.ext[:va_upper]\n",
    "\n",
    "    gen_lower = bus.ext[:gen_lower]\n",
    "    gen_upper = bus.ext[:gen_upper]\n",
    "\n",
    "    Plasmo.@variable(bus, va_lower <= va <= va_upper, start=0) # voltage angle variable.\n",
    "    # TODO: 아래 변수가 의미하는 것이 뭔지 이해 필요!\n",
    "    # 일단 active power인 건 알겠음.. => Gen이 있으면 3종류의 active power, 없으면 2종류의 active power?\n",
    "    Plasmo.@variable(bus, P[j=1:ngens[bus]], start=0)\n",
    "    for j=1:length(P)\n",
    "        Plasmo.set_lower_bound(P[j],gen_lower[j])\n",
    "        Plasmo.set_upper_bound(P[j],gen_upper[j])\n",
    "    end\n",
    "    # NOTE: 위에 loop에서 transmission line node에 대한 변수 및 제약 조건을 설정해줬기 때문에, 자동으로 node_map_in에 있는 value 값들도 동기화가 됨!\n",
    "    lines_in = node_map_in[bus]\n",
    "    lines_out = node_map_out[bus]\n",
    "\n",
    "    # NOTE: DC/AC OPF에서의 link constraints 선언 방식!! <= 다른 방식은 없는지?\n",
    "    Plasmo.@variable(bus, power_in[1:length(lines_in)])\n",
    "    Plasmo.@variable(bus, power_out[1:length(lines_out)])\n",
    "\n",
    "    for (j,line) in enumerate(lines_in)\n",
    "        link = Plasmo.@linkconstraint(powergrid, bus[:power_in][j] == line[:flow])\n",
    "        push!(dual_links,link)\n",
    "    end\n",
    "    for (j,line) in enumerate(lines_out)\n",
    "        link = Plasmo.@linkconstraint(powergrid, bus[:power_out][j] == line[:flow])\n",
    "        push!(dual_links,link)\n",
    "    end\n",
    "\n",
    "\n",
    "    ## Julia error: sum of the empty vector is not zero...\n",
    "    if typeof(power_in) == Vector{Any}\n",
    "        # bus[:power_in] = 0\n",
    "        power_in = 0\n",
    "    end\n",
    "    if typeof(power_out) == Vector{Any}\n",
    "        # bus[:power_out] = 0\n",
    "        power_out = 0\n",
    "    end\n",
    "    Plasmo.@constraint(bus, power_balance, sum(bus[:P][j] for j=1:ngens[bus]) + sum(power_in) - sum(power_out) - load_map[bus] == 0) # power balance equation constraint.\n",
    "    Plasmo.@objective(bus, Min, sum(bus.ext[:c1][j]*bus[:P][j] + bus.ext[:c2][j]*bus[:P][j]^2 for j=1:ngens[bus]))\n",
    "end\n",
    "\n",
    "Plasmo.@linkconstraint(powergrid, line_coupling_i[line = lines], line[:va_i] == line_map[line][1][:va])\n",
    "Plasmo.@linkconstraint(powergrid, line_coupling_j[line = lines], line[:va_j] == line_map[line][2][:va])\n",
    "primal_links = [line_coupling_i.data ; line_coupling_j.data]"
   ]
  },
  {
   "cell_type": "markdown",
   "metadata": {},
   "source": [
    "* Partition and Solve"
   ]
  },
  {
   "cell_type": "code",
   "execution_count": 16,
   "metadata": {},
   "outputs": [],
   "source": [
    "using KaHyPar\n",
    "using SchwarzOpt\n",
    "using JuMP, Ipopt, Gurobi, MadNLP\n",
    "using MadNLPHSL\n",
    "import HSL_jll"
   ]
  },
  {
   "cell_type": "code",
   "execution_count": 10,
   "metadata": {},
   "outputs": [
    {
     "data": {
      "text/plain": [
       "      OptiGraph: # elements (including subgraphs)\n",
       "-------------------------------------------------------------------\n",
       "      OptiNodes: 23448          (23448)\n",
       "      OptiEdges: 28414          (28414)\n",
       "LinkConstraints: 56828          (56828)\n",
       " sub-OptiGraphs:     0              (0)"
      ]
     },
     "metadata": {},
     "output_type": "display_data"
    }
   ],
   "source": [
    "powergrid"
   ]
  },
  {
   "cell_type": "code",
   "execution_count": 11,
   "metadata": {},
   "outputs": [
    {
     "name": "stdout",
     "output_type": "stream",
     "text": [
      "+++++++++++++++++++++++++++++++++++++++++++++++++++++++++++++++++++++++++++++++ \n",
      "+                    _  __     _   _       ____                               + \n",
      "+                   | |/ /__ _| | | |_   _|  _ \\ __ _ _ __                    + \n",
      "+                   | ' // _` | |_| | | | | |_) / _` | '__|                   + \n",
      "+                   | . \\ (_| |  _  | |_| |  __/ (_| | |                      + \n",
      "+                   |_|\\_\\__,_|_| |_|\\__, |_|   \\__,_|_|                      + \n",
      "+                                    |___/                                    + \n",
      "+                 Karlsruhe Hypergraph Partitioning Framework                 + \n",
      "+++++++++++++++++++++++++++++++++++++++++++++++++++++++++++++++++++++++++++++++ \n",
      "*******************************************************************************\n",
      "*                            Partitioning Context                             *\n",
      "*******************************************************************************\n",
      "Partitioning Parameters:\n",
      "  Hypergraph:                         \n",
      "  Partition File:                     \n",
      "  Mode:                               direct\n",
      "  Objective:                          cut\n",
      "  k:                                  4\n",
      "  epsilon:                            0.1\n",
      "  seed:                               -1\n",
      "  # V-cycles:                         0\n",
      "  time limit:                         -1s\n",
      "  hyperedge size ignore threshold:    1000\n",
      "  hyperedge size removal threshold:   4294967295\n",
      "  use individual block weights:       false\n",
      "  L_opt:                              25051\n",
      "  L_max:                              27556\n",
      "-------------------------------------------------------------------------------\n",
      "Preprocessing Parameters:\n",
      "  enable deduplication:               false\n",
      "  enable min hash sparsifier:         true\n",
      "  enable community detection:         true\n",
      "-------------------------------------------------------------------------------\n",
      "MinHash Sparsifier Parameters:\n",
      "  max hyperedge size:                 1200\n",
      "  max cluster size:                   10\n",
      "  min cluster size:                   2\n",
      "  number of hash functions:           5\n",
      "  number of combined hash functions:  100\n",
      "  active at median net size >=:       28\n",
      "  sparsifier is active:               false\n",
      "-------------------------------------------------------------------------------\n",
      "Community Detection Parameters:\n",
      "  use community detection in IP:      true\n",
      "  maximum louvain-pass iterations:    100\n",
      "  minimum quality improvement:        0.0001\n",
      "  graph edge weight:                  uniform\n",
      "  reuse community structure:          false\n",
      "  large HE threshold:                 4294967295\n",
      "-------------------------------------------------------------------------------\n",
      "Coarsening Parameters:\n",
      "  Algorithm:                          ml_style\n",
      "  max-allowed-weight-multiplier:      1\n",
      "  contraction-limit-multiplier:       160\n",
      "  hypernode weight fraction:          0.0015625\n",
      "  max. allowed hypernode weight:      157\n",
      "  contraction limit:                  640\n",
      "  Rating Parameters:\n",
      "    Rating Function:                  heavy_edge\n",
      "    Use Community Structure:          true\n",
      "    Heavy Node Penalty:               no_penalty\n",
      "    Acceptance Policy:                best_prefer_unmatched\n",
      "    Partition Policy:                 normal\n",
      "    Fixed Vertex Acceptance Policy:   fixed_vertex_allowed\n",
      "-------------------------------------------------------------------------------\n",
      "Initial Partitioning Parameters:\n",
      "  # IP trials:                        20\n",
      "  Mode:                               recursive\n",
      "  Technique:                          multilevel\n",
      "  Algorithm:                          pool\n",
      "  Bin Packing algorithm:              worst_fit\n",
      "    early restart on infeasible:      true\n",
      "    late restart on infeasible:       true\n",
      "IP Coarsening:                        \n",
      "Coarsening Parameters:\n",
      "  Algorithm:                          ml_style\n",
      "  max-allowed-weight-multiplier:      1\n",
      "  contraction-limit-multiplier:       150\n",
      "  hypernode weight fraction:          determined before IP\n",
      "  max. allowed hypernode weight:      determined before IP\n",
      "  contraction limit:                  determined before IP\n",
      "  Rating Parameters:\n",
      "    Rating Function:                  heavy_edge\n",
      "    Use Community Structure:          true\n",
      "    Heavy Node Penalty:               no_penalty\n",
      "    Acceptance Policy:                best_prefer_unmatched\n",
      "    Partition Policy:                 normal\n",
      "    Fixed Vertex Acceptance Policy:   fixed_vertex_allowed\n",
      "IP Local Search:                      \n",
      "Local Search Parameters:\n",
      "  Algorithm:                          twoway_fm\n",
      "  iterations per level:               2147483647\n",
      "  stopping rule:                      simple\n",
      "  max. # fruitless moves:             50\n",
      "  Flow Refinement Parameters:\n",
      "    execution policy:                 UNDEFINED\n",
      "-------------------------------------------------------------------------------\n",
      "Local Search Parameters:\n",
      "  Algorithm:                          kway_fm_hyperflow_cutter\n",
      "  iterations per level:               2147483647\n",
      "  stopping rule:                      adaptive_opt\n",
      "  adaptive stopping alpha:            1\n",
      "  Flow Refinement Parameters:\n",
      "    execution policy:                 exponential\n",
      "-------------------------------------------------------------------------------\n",
      " \n",
      "******************************************************************************** \n",
      "*                             Partitioning Result                              * \n",
      "******************************************************************************** \n",
      "Objectives: \n",
      "Hyperedge Cut  (minimize) = 82 \n",
      "SOED           (minimize) = 164 \n",
      "(k-1)          (minimize) = 82 \n",
      "Absorption     (maximize) = 56746 \n",
      "Imbalance                 = 0.0536506 \n",
      "\n",
      "Partition sizes and weights:  \n",
      "|part 0 | = 5854  w( 0 ) = 26014 \n",
      "|part 1 | = 5778  w( 1 ) = 24519 \n",
      "|part 2 | = 5552  w( 2 ) = 23275 \n",
      "|part 3 | = 6264  w( 3 ) = 26395 \n",
      "\n",
      "Timings: \n",
      "Partition time                     = 0.232199 s \n",
      "  + Input Validation               = 0.000287988 s \n",
      "  + Preprocessing                  = 0.0442047 s \n",
      "    | min hash sparsifier          = 0 s \n",
      "    | community detection          = 0.0442047 s \n",
      "  + Coarsening                     = 0.0123582 s \n",
      "  + Initial Partitioning           = 0.101377 s \n",
      "    + Coarsening                   = 0.000421738 s \n",
      "          | bisection 1 ( 0 , 3 )        = 0.000308717 s \n",
      "          | bisection 2 ( 2 , 3 )        = 5.2237e-05 s \n",
      "          | bisection 3 ( 0 , 1 )        = 6.0784e-05 s \n",
      "    + Initial Partitioning         = 0.0959877 s \n",
      "          | bisection 1 ( 0 , 3 )        = 0.0307682 s \n",
      "          | bisection 2 ( 2 , 3 )        = 0.0309618 s \n",
      "          | bisection 3 ( 0 , 1 )        = 0.0342577 s \n",
      "    + Local Search                 = 0.000738321 s \n",
      "          | bisection 1 ( 0 , 3 )        = 0.000527817 s \n",
      "          | bisection 2 ( 2 , 3 )        = 8.557e-05 s \n",
      "          | bisection 3 ( 0 , 1 )        = 0.000124934 s \n",
      "  + Local Search                   = 0.0682494 s \n",
      "           | flow refinement       = 0.0540169  s \n",
      "  + Postprocessing                 = 0 s \n",
      "    | undo sparsifier              = 0 s \n",
      " \n",
      " \n"
     ]
    },
    {
     "data": {
      "text/plain": [
       "4-element Vector{OptiGraph}:\n",
       "       OptiGraph: # elements (including subgraphs)\n",
       "-------------------------------------------------------------------\n",
       "      OptiNodes:  7434           (7434)\n",
       "      OptiEdges: 10048          (10048)\n",
       "LinkConstraints: 20096          (20096)\n",
       " sub-OptiGraphs:     0              (0)\n",
       "       OptiGraph: # elements (including subgraphs)\n",
       "-------------------------------------------------------------------\n",
       "      OptiNodes:  8023           (8023)\n",
       "      OptiEdges:  9860           (9860)\n",
       "LinkConstraints: 19720          (19720)\n",
       " sub-OptiGraphs:     0              (0)\n",
       "       OptiGraph: # elements (including subgraphs)\n",
       "-------------------------------------------------------------------\n",
       "      OptiNodes:  6603           (6603)\n",
       "      OptiEdges:  7541           (7541)\n",
       "LinkConstraints: 15082          (15082)\n",
       " sub-OptiGraphs:     0              (0)\n",
       "       OptiGraph: # elements (including subgraphs)\n",
       "-------------------------------------------------------------------\n",
       "      OptiNodes:  6790           (6790)\n",
       "      OptiEdges:  7726           (7726)\n",
       "LinkConstraints: 15452          (15452)\n",
       " sub-OptiGraphs:     0              (0)"
      ]
     },
     "metadata": {},
     "output_type": "display_data"
    }
   ],
   "source": [
    "# create hypergraph object based on graph\n",
    "hypergraph, hyper_map = Plasmo.hyper_graph(powergrid)\n",
    "\n",
    "# setup node and edge weights\n",
    "n_vertices = Plasmo.num_all_nodes(powergrid)\n",
    "n_sizes = Plasmo.num_variables.(Plasmo.all_nodes(powergrid))\n",
    "e_weights = Plasmo.num_linkconstraints.(Plasmo.all_edges(powergrid))\n",
    "\n",
    "# use KaHyPar to partition the hypergraph\n",
    "node_vector=KaHyPar.partition(hypergraph, 4, configuration=:edge_cut, imbalance=0.1, node_sizes=n_sizes, edge_weights=e_weights)\n",
    "\n",
    "# create a partition object\n",
    "partition = Plasmo.Partition(node_vector, hyper_map)\n",
    "\n",
    "# setup subgraphs based on partition\n",
    "Plasmo.apply_partition!(powergrid, partition)\n",
    "\n",
    "# expand subgraphs\n",
    "overlap_distance = 10 # 10\n",
    "sub_expand = Plasmo.expand.(powergrid, Plasmo.getsubgraphs(powergrid), overlap_distance)"
   ]
  },
  {
   "cell_type": "markdown",
   "metadata": {},
   "source": [
    "* NOTE: Partition 개수 만큼 multi-threading으로 thread 개수를 설정해줘야 함.\n",
    "    * .bashrc 파일에 vi로 ```export JULIA_NUM_THREADS=n``` 작성."
   ]
  },
  {
   "cell_type": "code",
   "execution_count": 15,
   "metadata": {},
   "outputs": [
    {
     "name": "stdout",
     "output_type": "stream",
     "text": [
      "Optimizing with user provided overlap\n",
      "Initializing SchwarzOpt...\n",
      "###########################################################\n",
      "Optimizing with SchwarzOpt v0.2.0 using 20 threads\n",
      "###########################################################\n",
      "\n",
      "Number of variables: 100203\n",
      "Number of constraints: 94483\n",
      "Number of subproblems: 4\n",
      "Overlap: \n",
      "Subproblem variables:   [32810, 34457, 27614, 28808]\n",
      "Subproblem constraints: [12535, 13085, 10472, 10653]\n",
      "\n"
     ]
    },
    {
     "ename": "InterruptException",
     "evalue": "InterruptException:",
     "output_type": "error",
     "traceback": [
      "InterruptException:\n",
      "\n",
      "Stacktrace:\n",
      "  [1] _collect(::Type{MathOptInterface.VariableIndex}, itr::Base.Generator{Base.Iterators.Filter{MathOptInterface.Utilities.var\"#111#113\"{MathOptInterface.Utilities.VariablesContainer{Float64}}, UnitRange{Int64}}, MathOptInterface.Utilities.var\"#110#112\"}, isz::Base.SizeUnknown)\n",
      "    @ Base ./array.jl:698\n",
      "  [2] collect\n",
      "    @ ./array.jl:694 [inlined]\n",
      "  [3] get\n",
      "    @ ~/.julia/packages/MathOptInterface/nEHaN/src/Utilities/variables_container.jl:234 [inlined]\n",
      "  [4] get\n",
      "    @ ~/.julia/packages/MathOptInterface/nEHaN/src/Utilities/model.jl:218 [inlined]\n",
      "  [5] get\n",
      "    @ ~/.julia/packages/MathOptInterface/nEHaN/src/Utilities/universalfallback.jl:396 [inlined]\n",
      "  [6] get(model::MathOptInterface.Utilities.CachingOptimizer{MathOptInterface.AbstractOptimizer, MathOptInterface.Utilities.UniversalFallback{MathOptInterface.Utilities.Model{Float64}}}, attr::MathOptInterface.ListOfVariableIndices)\n",
      "    @ MathOptInterface.Utilities ~/.julia/packages/MathOptInterface/nEHaN/src/Utilities/cachingoptimizer.jl:888\n",
      "  [7] get(node_backend::Plasmo.NodeBackend, attr::MathOptInterface.ListOfVariableIndices)\n",
      "    @ Plasmo ~/.julia/packages/Plasmo/ecq9F/src/moi_backend_node.jl:149\n",
      "  [8] get(model::Model, attr::MathOptInterface.ListOfVariableIndices)\n",
      "    @ JuMP ~/.julia/packages/JuMP/kSaGf/src/optimizer_interface.jl:739\n",
      "  [9] all_variables(model::Model)\n",
      "    @ JuMP ~/.julia/packages/JuMP/kSaGf/src/variables.jl:2184\n",
      " [10] all_variables(node::OptiNode)\n",
      "    @ Plasmo ~/.julia/packages/Plasmo/ecq9F/src/optinode.jl:73\n",
      " [11] (::Plasmo.var\"#61#62\")(node::OptiNode)\n",
      "    @ Plasmo ./none:0\n",
      " [12] iterate\n",
      "    @ ./generator.jl:47 [inlined]\n",
      " [13] collect_to!(dest::Vector{Vector{VariableRef}}, itr::Base.Generator{Vector{OptiNode}, Plasmo.var\"#61#62\"}, offs::Int64, st::Int64)\n",
      "    @ Base ./array.jl:892\n",
      " [14] collect_to_with_first!(dest::Vector{Vector{VariableRef}}, v1::Vector{VariableRef}, itr::Base.Generator{Vector{OptiNode}, Plasmo.var\"#61#62\"}, st::Int64)\n",
      "    @ Base ./array.jl:870\n",
      " [15] collect(itr::Base.Generator{Vector{OptiNode}, Plasmo.var\"#61#62\"})\n",
      "    @ Base ./array.jl:844\n",
      " [16] all_variables(graph::OptiGraph)\n",
      "    @ Plasmo ~/.julia/packages/Plasmo/ecq9F/src/optigraph.jl:473\n",
      " [17] _formulate_penalty!(optimizer::SchwarzOpt.Optimizer, subproblem_graph::OptiGraph, link_reference::LinkConstraintRef)\n",
      "    @ SchwarzOpt ~/.julia/packages/SchwarzOpt/Hsxli/src/optimizer.jl:262\n",
      " [18] _update_subproblem!(optimizer::SchwarzOpt.Optimizer, subproblem_graph::OptiGraph)\n",
      "    @ SchwarzOpt ~/.julia/packages/SchwarzOpt/Hsxli/src/optimizer.jl:252\n",
      " [19] macro expansion\n",
      "    @ ~/.julia/packages/SchwarzOpt/Hsxli/src/optimizer.jl:407 [inlined]\n",
      " [20] macro expansion\n",
      "    @ ./timing.jl:395 [inlined]\n",
      " [21] optimize!(optimizer::SchwarzOpt.Optimizer)\n",
      "    @ SchwarzOpt ~/.julia/packages/SchwarzOpt/Hsxli/src/optimizer.jl:405\n",
      " [22] optimize!(graph::OptiGraph; subgraphs::Vector{OptiGraph}, sub_optimizer::MathOptInterface.OptimizerWithAttributes, overlap::Int64, max_iterations::Int64, mu::Float64)\n",
      "    @ SchwarzOpt ~/.julia/packages/SchwarzOpt/Hsxli/src/optimizer.jl:516\n",
      " [23] top-level scope\n",
      "    @ ~/workspace_skj/Plasmo_tutorial/DCOPF_SchwarzOpt.ipynb:7"
     ]
    }
   ],
   "source": [
    "# sub_optimizer = JuMP.optimizer_with_attributes(Ipopt.Optimizer,\"tol\" => 1e-12,\"print_level\" => 0,\"linear_solver\" => \"ma27\")\n",
    "# sub_optimizer = JuMP.optimizer_with_attributes(Ipopt.Optimizer)\n",
    "sub_optimizer = JuMP.optimizer_with_attributes(MadNLP.Optimizer, \"tol\"=>1e-12, \"print_level\"=>0, \n",
    "                                            \"hsllib\"=>HSL_jll.libhsl_path, \"linear_solver\" => \"ma57\")\n",
    "# sub_optimizer = JuMP.optimizer_with_attributes(Gurobi.Optimizer)\n",
    "\n",
    "# Solve with SchwarOpt\n",
    "result = SchwarzOpt.optimize!(powergrid, subgraphs=sub_expand; sub_optimizer=sub_optimizer, max_iterations=50)\n",
    "## 원래 코드\n",
    "# SchwarzOpt.optimize!(powergrid,expanded_subs;sub_optimizer = optimizer_with_attributes(Ipopt.Optimizer,\"tol\" => 1e-12,\"print_level\" => 0,\"linear_solver\" => \"ma27\"), max_iterations = 100, tolerance = 1e-10, primal_links = primal_links, dual_links = dual_links)"
   ]
  },
  {
   "cell_type": "code",
   "execution_count": 11,
   "metadata": {},
   "outputs": [
    {
     "data": {
      "text/plain": [
       "6.799343242965658e6"
      ]
     },
     "metadata": {},
     "output_type": "display_data"
    }
   ],
   "source": [
    "result.objective_value"
   ]
  },
  {
   "cell_type": "code",
   "execution_count": 22,
   "metadata": {},
   "outputs": [
    {
     "data": {
      "text/plain": [
       "13102.500704590002"
      ]
     },
     "metadata": {},
     "output_type": "display_data"
    }
   ],
   "source": [
    "## Query the time information to solving the problem using Schwarz algorithm.\n",
    "\n",
    "# result.timers\n",
    "# result.timers.start_time\n",
    "# result.timers.initialize_time\n",
    "# result.timers.eval_objective_time\n",
    "# result.timers.eval_primal_feasibility_time\n",
    "# result.timers.eval_dual_feasibility_time\n",
    "result.timers.update_subproblem_time\n",
    "# result.timers.solve_subproblem_time\n",
    "# result.timers.total_time"
   ]
  }
 ],
 "metadata": {
  "kernelspec": {
   "display_name": "Julia 1.10.2",
   "language": "julia",
   "name": "julia-1.10"
  },
  "language_info": {
   "file_extension": ".jl",
   "mimetype": "application/julia",
   "name": "julia",
   "version": "1.10.2"
  }
 },
 "nbformat": 4,
 "nbformat_minor": 2
}
