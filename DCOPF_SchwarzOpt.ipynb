{
 "cells": [
  {
   "cell_type": "markdown",
   "metadata": {},
   "source": [
    "# Overlapping schwarz decomposition for DCOPF"
   ]
  },
  {
   "cell_type": "markdown",
   "metadata": {},
   "source": [
    "* Load data"
   ]
  },
  {
   "cell_type": "code",
   "execution_count": 1,
   "metadata": {},
   "outputs": [],
   "source": [
    "using LightGraphs, Random, LinearAlgebra, Printf, DelimitedFiles, SparseArrays, PowerModels"
   ]
  },
  {
   "cell_type": "code",
   "execution_count": 2,
   "metadata": {},
   "outputs": [
    {
     "name": "stdout",
     "output_type": "stream",
     "text": [
      "\u001b[32m[info | PowerModels]: Suppressing information and warning messages for the rest of this session.  Use the Memento package for more fine-grained control of logging.\u001b[39m\n"
     ]
    }
   ],
   "source": [
    "PowerModels.silence()"
   ]
  },
  {
   "cell_type": "code",
   "execution_count": 5,
   "metadata": {},
   "outputs": [
    {
     "data": {
      "text/plain": [
       "get_data (generic function with 1 method)"
      ]
     },
     "metadata": {},
     "output_type": "display_data"
    }
   ],
   "source": [
    "function get_data(path)\n",
    "    data = PowerModels.parse_file(path)\n",
    "    A = PowerModels.calc_susceptance_matrix(data)\n",
    "\n",
    "    args = Dict()\n",
    "    args[:N] = size(A.matrix, 1) # number of buses\n",
    "    args[:y] = A.matrix\n",
    "    args[:del] = spzeros(args[:N],args[:N]) # \n",
    "    args[:g] = LightGraphs.Graph(args[:N]) # the lightgraph; assign the nodes\n",
    "    for e in values(data[\"branch\"])\n",
    "        i = A.bus_to_idx[e[\"f_bus\"]]\n",
    "        j = A.bus_to_idx[e[\"t_bus\"]]\n",
    "        LightGraphs.add_edge!(args[:g],i,j) # assign the edges.\n",
    "        args[:del][i,j] = e[\"angmin\"]\n",
    "        args[:del][j,i] = e[\"angmin\"]\n",
    "    end\n",
    "\n",
    "    # voltage angle limits\n",
    "    args[:val] = -ones(args[:N])*Inf # lower bound\n",
    "    args[:vau] = ones(args[:N])*Inf # upper bound\n",
    "    args[:ref] = A.bus_to_idx[PowerModels.reference_bus(data)[\"index\"]] # reference buses\n",
    "    args[:val][args[:ref]] = 0; args[:vau][args[:ref]] = 0 # the voltage angle of reference bus is 0.\n",
    "\n",
    "\n",
    "    gens = PowerModels.bus_gen_lookup(data[\"gen\"], data[\"bus\"]) # bus index 중 generator bus index에 대해서만 관련 PV bus 정보 제공하는 함수. (vg, mbase, source_id, pg, model, shutdown, startup, index, cost, qg)\n",
    "    # generator cost coefficients\n",
    "    args[:c1] = [[1e6, -1e6] for i=1:args[:N]]\n",
    "    args[:c2] = [[.0, .0] for i=1:args[:N]]\n",
    "    args[:sl] = [[.0,-1e2] for i=1:args[:N]] # generator power min?\n",
    "    args[:su] = [[1e2,.0] for i=1:args[:N]] # generator power max?\n",
    "    args[:ng] = 2*ones(Int64,args[:N]) # number of generators? <= TODO: Need to check this.\n",
    "\n",
    "    for i=1:args[:N] # for each bus\n",
    "        bus = A.idx_to_bus[i] # return to the bus index from the index of matrix.\n",
    "        for j=1:length(gens[bus]) # 해당 PV bus에 있는 발전기 개수 별 loop?\n",
    "            if length(gens[bus][j][\"cost\"]) != 0\n",
    "                # push! <= list append와 같은 개념\n",
    "                push!(args[:c1][i], gens[bus][j][\"cost\"][1])\n",
    "                push!(args[:c2][i], gens[bus][j][\"cost\"][2])\n",
    "                push!(args[:sl][i], gens[bus][j][\"pmin\"])\n",
    "                push!(args[:su][i], gens[bus][j][\"pmax\"])\n",
    "                args[:ng][i] += 1\n",
    "            end\n",
    "        end\n",
    "    end\n",
    "\n",
    "    args[:Ng] = sum(args[:ng]) # <= TODO: Need to check this.\n",
    "\n",
    "    # PQ bus의 Pd 저장?\n",
    "    args[:sd] = zeros(args[:N])\n",
    "    for v in values(data[\"load\"])\n",
    "        args[:sd][A.bus_to_idx[v[\"load_bus\"]]] = v[\"pd\"]\n",
    "    end\n",
    "\n",
    "    return args\n",
    "end"
   ]
  },
  {
   "cell_type": "code",
   "execution_count": 6,
   "metadata": {},
   "outputs": [
    {
     "data": {
      "text/plain": [
       "Dict{Any, Any} with 14 entries:\n",
       "  :su  => [[100.0, 0.0], [100.0, 0.0, 1.0], [100.0, 0.0], [100.0, 0.0], [100.0,…\n",
       "  :vau => [Inf, Inf, Inf, Inf, Inf, Inf, Inf, Inf, Inf, Inf  …  Inf, Inf, Inf, …\n",
       "  :c1  => [[1.0e6, -1.0e6], [1.0e6, -1.0e6, 4814.49], [1.0e6, -1.0e6], [1.0e6, …\n",
       "  :c2  => [[0.0, 0.0], [0.0, 0.0, 0.0], [0.0, 0.0], [0.0, 0.0], [0.0, 0.0], [0.…\n",
       "  :ng  => [2, 3, 2, 2, 2, 3, 2, 3, 2, 2  …  2, 2, 2, 3, 2, 2, 3, 3, 2, 2]\n",
       "  :N   => 9241\n",
       "  :val => [-Inf, -Inf, -Inf, -Inf, -Inf, -Inf, -Inf, -Inf, -Inf, -Inf  …  -Inf,…\n",
       "  :ref => 4231\n",
       "  :g   => {9241, 14207} undirected simple Int64 graph\n",
       "  :sd  => [3.784, 0.0, 1.51, 1.7141, 0.4595, 0.0, 0.3103, 0.0, 0.143, 1.34  …  …\n",
       "  :y   => sparse([1, 2316, 7639, 7835, 2, 2447, 4898, 3, 8189, 8676  …  9237, 1…\n",
       "  :del => sparse([2316, 7639, 7835, 2447, 4898, 8189, 8676, 1813, 5241, 9018  ……\n",
       "  :Ng  => 19927\n",
       "  :sl  => [[0.0, -100.0], [0.0, -100.0, -1.0853], [0.0, -100.0], [0.0, -100.0],…"
      ]
     },
     "metadata": {},
     "output_type": "display_data"
    }
   ],
   "source": [
    "path = \"/home/kjsong/workspace_skj/Plasmo_tutorial/data/pglib_opf_case9241_pegase.m\"\n",
    "\n",
    "args = get_data(path)"
   ]
  },
  {
   "cell_type": "markdown",
   "metadata": {},
   "source": [
    "* Powergrid"
   ]
  },
  {
   "cell_type": "code",
   "execution_count": 24,
   "metadata": {},
   "outputs": [
    {
     "data": {
      "text/plain": [
       "Dict{OptiNode, Vector{OptiNode}} with 9241 entries:\n",
       "  OptiNode w/ 0 Variable(s) and 0 Constraint(s) => []\n",
       "  OptiNode w/ 0 Variable(s) and 0 Constraint(s) => []\n",
       "  OptiNode w/ 0 Variable(s) and 0 Constraint(s) => []\n",
       "  OptiNode w/ 0 Variable(s) and 0 Constraint(s) => []\n",
       "  OptiNode w/ 0 Variable(s) and 0 Constraint(s) => []\n",
       "  OptiNode w/ 0 Variable(s) and 0 Constraint(s) => []\n",
       "  OptiNode w/ 0 Variable(s) and 0 Constraint(s) => []\n",
       "  OptiNode w/ 0 Variable(s) and 0 Constraint(s) => []\n",
       "  OptiNode w/ 0 Variable(s) and 0 Constraint(s) => []\n",
       "  OptiNode w/ 0 Variable(s) and 0 Constraint(s) => []\n",
       "  OptiNode w/ 0 Variable(s) and 0 Constraint(s) => []\n",
       "  OptiNode w/ 0 Variable(s) and 0 Constraint(s) => []\n",
       "  OptiNode w/ 0 Variable(s) and 0 Constraint(s) => []\n",
       "  OptiNode w/ 0 Variable(s) and 0 Constraint(s) => []\n",
       "  OptiNode w/ 0 Variable(s) and 0 Constraint(s) => []\n",
       "  OptiNode w/ 0 Variable(s) and 0 Constraint(s) => []\n",
       "  OptiNode w/ 0 Variable(s) and 0 Constraint(s) => []\n",
       "  OptiNode w/ 0 Variable(s) and 0 Constraint(s) => []\n",
       "  OptiNode w/ 0 Variable(s) and 0 Constraint(s) => []\n",
       "  ⋮                                             => ⋮"
      ]
     },
     "metadata": {},
     "output_type": "display_data"
    }
   ],
   "source": [
    "using Plasmo\n",
    "using Ipopt\n",
    "\n",
    "gamma = 1e5\n",
    "oms = [1, 4, 7]\n",
    "max_iter = 1000\n",
    "scl = 1\n",
    "\n",
    "g = args[:g]\n",
    "N_buses = LightGraphs.nv(g)\n",
    "N_lines = LightGraphs.ne(g)\n",
    "y = args[:y]\n",
    "del = args[:del]\n",
    "\n",
    "powergrid = Plasmo.OptiGraph()\n",
    "Plasmo.@optinode(powergrid, buses[1:N_buses]) # create node buses\n",
    "Plasmo.@optinode(powergrid, lines[1:N_lines]) # create transmission lines\n",
    "\n",
    "node_map_in = Dict((bus,Plasmo.OptiNode[]) for bus in buses)\n",
    "node_map_out = Dict((bus,Plasmo.OptiNode[]) for bus in buses)\n",
    "\n",
    "line_map = Dict()\n",
    "edge_map = Dict()\n",
    "B = Dict()\n",
    "angle_rate = Dict()\n",
    "ngens = Dict()\n",
    "load_map = Dict()\n",
    "\n"
   ]
  },
  {
   "cell_type": "code",
   "execution_count": 17,
   "metadata": {},
   "outputs": [],
   "source": []
  }
 ],
 "metadata": {
  "kernelspec": {
   "display_name": "Julia 1.10.2",
   "language": "julia",
   "name": "julia-1.10"
  },
  "language_info": {
   "file_extension": ".jl",
   "mimetype": "application/julia",
   "name": "julia",
   "version": "1.10.2"
  }
 },
 "nbformat": 4,
 "nbformat_minor": 2
}
