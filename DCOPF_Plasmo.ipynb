{
 "cells": [
  {
   "cell_type": "markdown",
   "metadata": {},
   "source": [
    "# Plasmo.jl for DCOPF\n",
    "\n",
    "* Centralized way"
   ]
  },
  {
   "cell_type": "markdown",
   "metadata": {},
   "source": [
    "* Load data"
   ]
  },
  {
   "cell_type": "code",
   "execution_count": 1,
   "metadata": {},
   "outputs": [],
   "source": [
    "using LightGraphs, Random, LinearAlgebra, Printf, DelimitedFiles, SparseArrays, PowerModels"
   ]
  },
  {
   "cell_type": "code",
   "execution_count": 2,
   "metadata": {},
   "outputs": [
    {
     "name": "stdout",
     "output_type": "stream",
     "text": [
      "\u001b[32m[info | PowerModels]: Suppressing information and warning messages for the rest of this session.  Use the Memento package for more fine-grained control of logging.\u001b[39m\n"
     ]
    }
   ],
   "source": [
    "PowerModels.silence()"
   ]
  },
  {
   "cell_type": "code",
   "execution_count": 3,
   "metadata": {},
   "outputs": [
    {
     "data": {
      "text/plain": [
       "get_data (generic function with 1 method)"
      ]
     },
     "metadata": {},
     "output_type": "display_data"
    }
   ],
   "source": [
    "function get_data(path)\n",
    "    data = PowerModels.parse_file(path)\n",
    "    A = PowerModels.calc_susceptance_matrix(data)\n",
    "\n",
    "    args = Dict()\n",
    "    args[:N] = size(A.matrix, 1) # number of buses\n",
    "    args[:y] = A.matrix\n",
    "    args[:del] = spzeros(args[:N],args[:N]) # \n",
    "    args[:g] = LightGraphs.Graph(args[:N]) # the lightgraph; assign the nodes\n",
    "    for e in values(data[\"branch\"])\n",
    "        i = A.bus_to_idx[e[\"f_bus\"]]\n",
    "        j = A.bus_to_idx[e[\"t_bus\"]]\n",
    "        LightGraphs.add_edge!(args[:g],i,j) # assign the edges.\n",
    "        args[:del][i,j] = e[\"angmin\"]\n",
    "        args[:del][j,i] = e[\"angmin\"]\n",
    "    end\n",
    "\n",
    "    # voltage angle limits\n",
    "    args[:val] = -ones(args[:N])*Inf # lower bound\n",
    "    args[:vau] = ones(args[:N])*Inf # upper bound\n",
    "    args[:ref] = A.bus_to_idx[PowerModels.reference_bus(data)[\"index\"]] # reference buses\n",
    "    args[:val][args[:ref]] = 0; args[:vau][args[:ref]] = 0 # the voltage angle of reference bus is 0.\n",
    "\n",
    "\n",
    "    gens = PowerModels.bus_gen_lookup(data[\"gen\"], data[\"bus\"]) # bus index 중 generator bus index에 대해서만 관련 PV bus 정보 제공하는 함수. (vg, mbase, source_id, pg, model, shutdown, startup, index, cost, qg)\n",
    "    # generator cost coefficients\n",
    "    args[:c1] = [[1e6, -1e6] for i=1:args[:N]]\n",
    "    args[:c2] = [[.0, .0] for i=1:args[:N]]\n",
    "    args[:sl] = [[.0,-1e2] for i=1:args[:N]] # generator power min?\n",
    "    args[:su] = [[1e2,.0] for i=1:args[:N]] # generator power max?\n",
    "    args[:ng] = 2*ones(Int64,args[:N]) # number of generators? <= TODO: Need to check this.\n",
    "\n",
    "    for i=1:args[:N] # for each bus\n",
    "        bus = A.idx_to_bus[i] # return to the bus index from the index of matrix.\n",
    "        for j=1:length(gens[bus]) # 해당 PV bus에 있는 발전기 개수 별 loop?\n",
    "            if length(gens[bus][j][\"cost\"]) != 0\n",
    "                # push! <= list append와 같은 개념\n",
    "                push!(args[:c1][i], gens[bus][j][\"cost\"][1])\n",
    "                push!(args[:c2][i], gens[bus][j][\"cost\"][2])\n",
    "                push!(args[:sl][i], gens[bus][j][\"pmin\"])\n",
    "                push!(args[:su][i], gens[bus][j][\"pmax\"])\n",
    "                args[:ng][i] += 1\n",
    "            end\n",
    "        end\n",
    "    end\n",
    "\n",
    "    args[:Ng] = sum(args[:ng]) # <= TODO: Need to check this.\n",
    "\n",
    "    # PQ bus의 Pd 저장?\n",
    "    args[:sd] = zeros(args[:N])\n",
    "    for v in values(data[\"load\"])\n",
    "        args[:sd][A.bus_to_idx[v[\"load_bus\"]]] = v[\"pd\"]\n",
    "    end\n",
    "\n",
    "    return args\n",
    "end"
   ]
  },
  {
   "cell_type": "code",
   "execution_count": 4,
   "metadata": {},
   "outputs": [
    {
     "data": {
      "text/plain": [
       "Dict{Any, Any} with 14 entries:\n",
       "  :su  => [[100.0, 0.0], [100.0, 0.0, 1.0], [100.0, 0.0], [100.0, 0.0], [100.0,…\n",
       "  :vau => [Inf, Inf, Inf, Inf, Inf, Inf, Inf, Inf, Inf, Inf  …  Inf, Inf, Inf, …\n",
       "  :c1  => [[1.0e6, -1.0e6], [1.0e6, -1.0e6, 4814.49], [1.0e6, -1.0e6], [1.0e6, …\n",
       "  :c2  => [[0.0, 0.0], [0.0, 0.0, 0.0], [0.0, 0.0], [0.0, 0.0], [0.0, 0.0], [0.…\n",
       "  :ng  => [2, 3, 2, 2, 2, 3, 2, 3, 2, 2  …  2, 2, 2, 3, 2, 2, 3, 3, 2, 2]\n",
       "  :N   => 9241\n",
       "  :val => [-Inf, -Inf, -Inf, -Inf, -Inf, -Inf, -Inf, -Inf, -Inf, -Inf  …  -Inf,…\n",
       "  :ref => 4231\n",
       "  :g   => {9241, 14207} undirected simple Int64 graph\n",
       "  :sd  => [3.784, 0.0, 1.51, 1.7141, 0.4595, 0.0, 0.3103, 0.0, 0.143, 1.34  …  …\n",
       "  :y   => sparse([1, 2316, 7639, 7835, 2, 2447, 4898, 3, 8189, 8676  …  9237, 1…\n",
       "  :del => sparse([2316, 7639, 7835, 2447, 4898, 8189, 8676, 1813, 5241, 9018  ……\n",
       "  :Ng  => 19927\n",
       "  :sl  => [[0.0, -100.0], [0.0, -100.0, -1.0853], [0.0, -100.0], [0.0, -100.0],…"
      ]
     },
     "metadata": {},
     "output_type": "display_data"
    }
   ],
   "source": [
    "path = \"/home/kjsong/workspace_skj/Plasmo_tutorial/data/pglib_opf_case9241_pegase.m\"\n",
    "# \"/home/kjsong/workspace_skj/Plasmo_tutorial/data/pglib_opf_case9241_pegase.m\"\n",
    "# /home/kjsong/workspace/Plasmo_tutorial/data/pglib_opf_case9241_pegase.m\n",
    "args = get_data(path)"
   ]
  },
  {
   "cell_type": "markdown",
   "metadata": {},
   "source": [
    "* Powergrid\n",
    "    * How to model the DCOPF in terms of graph structure using Plasmo.jl (**Most important part**)\n",
    "    * TODO: ACOPF로 문제 변경 시 달라지는 점이 무엇인지 파악"
   ]
  },
  {
   "cell_type": "code",
   "execution_count": 5,
   "metadata": {},
   "outputs": [],
   "source": [
    "using Plasmo\n",
    "using Ipopt, Gurobi, JuMP\n",
    "using MadNLP, MadNLPHSL, MadNLPGPU\n",
    "\n",
    "import HSL_jll"
   ]
  },
  {
   "cell_type": "code",
   "execution_count": 6,
   "metadata": {},
   "outputs": [
    {
     "data": {
      "text/plain": [
       "28414-element Vector{LinkConstraintRef}:\n",
       " line_coupling_i[OptiNode w/ 3 Variable(s) and 2 Constraint(s)]: lines[1][:va_i] - buses[1][:va] = 0\n",
       " line_coupling_i[OptiNode w/ 3 Variable(s) and 2 Constraint(s)]: lines[2][:va_i] - buses[1][:va] = 0\n",
       " line_coupling_i[OptiNode w/ 3 Variable(s) and 2 Constraint(s)]: lines[3][:va_i] - buses[1][:va] = 0\n",
       " line_coupling_i[OptiNode w/ 3 Variable(s) and 2 Constraint(s)]: lines[4][:va_i] - buses[2][:va] = 0\n",
       " line_coupling_i[OptiNode w/ 3 Variable(s) and 2 Constraint(s)]: lines[5][:va_i] - buses[2][:va] = 0\n",
       " line_coupling_i[OptiNode w/ 3 Variable(s) and 2 Constraint(s)]: lines[6][:va_i] - buses[3][:va] = 0\n",
       " line_coupling_i[OptiNode w/ 3 Variable(s) and 2 Constraint(s)]: lines[7][:va_i] - buses[3][:va] = 0\n",
       " line_coupling_i[OptiNode w/ 3 Variable(s) and 2 Constraint(s)]: lines[8][:va_i] - buses[4][:va] = 0\n",
       " line_coupling_i[OptiNode w/ 3 Variable(s) and 2 Constraint(s)]: lines[9][:va_i] - buses[4][:va] = 0\n",
       " line_coupling_i[OptiNode w/ 3 Variable(s) and 2 Constraint(s)]: lines[10][:va_i] - buses[4][:va] = 0\n",
       " ⋮\n",
       " line_coupling_j[OptiNode w/ 3 Variable(s) and 2 Constraint(s)]: lines[14199][:va_j] - buses[9094][:va] = 0\n",
       " line_coupling_j[OptiNode w/ 3 Variable(s) and 2 Constraint(s)]: lines[14200][:va_j] - buses[9203][:va] = 0\n",
       " line_coupling_j[OptiNode w/ 3 Variable(s) and 2 Constraint(s)]: lines[14201][:va_j] - buses[9088][:va] = 0\n",
       " line_coupling_j[OptiNode w/ 3 Variable(s) and 2 Constraint(s)]: lines[14202][:va_j] - buses[9067][:va] = 0\n",
       " line_coupling_j[OptiNode w/ 3 Variable(s) and 2 Constraint(s)]: lines[14203][:va_j] - buses[9109][:va] = 0\n",
       " line_coupling_j[OptiNode w/ 3 Variable(s) and 2 Constraint(s)]: lines[14204][:va_j] - buses[9155][:va] = 0\n",
       " line_coupling_j[OptiNode w/ 3 Variable(s) and 2 Constraint(s)]: lines[14205][:va_j] - buses[9188][:va] = 0\n",
       " line_coupling_j[OptiNode w/ 3 Variable(s) and 2 Constraint(s)]: lines[14206][:va_j] - buses[9148][:va] = 0\n",
       " line_coupling_j[OptiNode w/ 3 Variable(s) and 2 Constraint(s)]: lines[14207][:va_j] - buses[9176][:va] = 0"
      ]
     },
     "metadata": {},
     "output_type": "display_data"
    }
   ],
   "source": [
    "# 뭐에 대한 parameter?\n",
    "gamma = 1e5 # the regularization parameter of voltage angle difference. \n",
    "oms = [1, 4, 7]\n",
    "max_iter = 1000\n",
    "scl = 1\n",
    "\n",
    "g = args[:g] # LightGraphs type\n",
    "N_buses = LightGraphs.nv(g) # get the number of nodes in graph.\n",
    "N_lines = LightGraphs.ne(g) # get the number of edges in graph.\n",
    "y = args[:y] # get the Y bus matrix \n",
    "del = args[:del] # get the voltage angle difference lower bound matrix\n",
    "\n",
    "powergrid = Plasmo.OptiGraph()\n",
    "\n",
    "# 여기가 MAIN PART. i.e., power network 최적화 문제를 graph로 어떻게 모델링 하는지.\n",
    "Plasmo.@optinode(powergrid, buses[1:N_buses]) # create node buses\n",
    "Plasmo.@optinode(powergrid, lines[1:N_lines]) # create transmission lines <= 일반적으로 power network의 line은 edge로 생각하겠지만, 여기서는 최적화 문제를 graph로 표현할때 line에 대한 variable (branch power flow)이 있기 때문에 node로 모델링.\n",
    "\n",
    "# 각 bus별로 from bus인지 to bus인지 각 line에 따라 정해져 있는데, 이를 bus 관점에서 line을 바라보는, 즉 어떤 line이 bus에 대해서 들어오는 line인지 아님 나가는 line인지를 볼 수 있는 dict.\n",
    "node_map_in = Dict((bus, Plasmo.OptiNode[]) for bus in buses) \n",
    "node_map_out = Dict((bus, Plasmo.OptiNode[]) for bus in buses)\n",
    "\n",
    "line_map = Dict() # 각 transmission line에 대해 연결된 bus pair; element type이 graph의 node로 모델링된 최적화 변수들임.\n",
    "edge_map = Dict() # 각 transmission line이 어떤 bus pair에 해당되어 있는지에 대한 dict.\n",
    "B = Dict() # 각 transmission line의 susceptance\n",
    "angle_rate = Dict() # 각 transmission line의 bus pair에 대한 voltage angle difference limit\n",
    "ngens = Dict()\n",
    "load_map = Dict()\n",
    "\n",
    "for (i,edge) in enumerate(LightGraphs.edges(g))\n",
    "    line = lines[i]\n",
    "    v_from = edge.src # <= LightGraphs package의 method: edge에 해당하는 node들 중 source node 불러오기\n",
    "    v_to = edge.dst # <= LightGraphs package의 method: edge에 해당하는 node들 중 destination node 불러오기\n",
    "\n",
    "    edge_map[(v_from, v_to)] = line\n",
    "\n",
    "    B[line] = y[v_from,v_to]\n",
    "    angle_rate[line] = del[v_from,v_to]\n",
    "\n",
    "    bus_from = buses[v_from]\n",
    "    bus_to = buses[v_to]\n",
    "    bus_vec = [bus_from, bus_to] # vector form\n",
    "    line_map[line] = bus_vec \n",
    "\n",
    "    push!(node_map_in[bus_to], line)\n",
    "    push!(node_map_out[bus_from], line)\n",
    "end\n",
    "\n",
    "for i = 1:N_buses\n",
    "    neighs = LightGraphs.neighbors(g,i)\n",
    "    bus = buses[i]\n",
    "\n",
    "    ngens[bus] = args[:ng][i] # 이건 뭘 의미하는건지...\n",
    "    load_map[bus] = args[:sd][i] # Bus 별 Pd 값 저장\n",
    "\n",
    "    # Plasmo OptiNode(i.e., power network의 bus 및 line)에 변수 및 제약조건 설정에 필요한 값 할당.\n",
    "    bus.ext[:c1] = args[:c1][i] \n",
    "    bus.ext[:c2] = args[:c2][i]\n",
    "    bus.ext[:va_lower] = args[:val][i]\n",
    "    bus.ext[:va_upper] = args[:vau][i]\n",
    "    bus.ext[:gen_lower] = args[:sl][i]\n",
    "    bus.ext[:gen_upper] = args[:su][i]\n",
    "end\n",
    "\n",
    "for line in lines\n",
    "    bus_from = line_map[line][1]\n",
    "    bus_to = line_map[line][2]\n",
    "    Plasmo.@variable(line, va_i, start=0)\n",
    "    Plasmo.@variable(line, va_j, start=0)\n",
    "    Plasmo.@variable(line, flow, start=0) # i.e., branch power flow\n",
    "    Plasmo.@constraint(line, flow==B[line]*(va_i - va_j)) # power flow equation constraint.\n",
    "    delta = angle_rate[line]\n",
    "    Plasmo.@constraint(line, delta <= (va_i - va_j) <= -delta) # voltage angle difference constraint.\n",
    "    Plasmo.@objective(line, Min, 1/4*gamma*(va_i - va_j)^2) # penalty term of objective function (18a).\n",
    "end\n",
    "\n",
    "dual_links = Plasmo.LinkConstraintRef[] # link constraints들을 저장하고 관리할 수 있는 storage 개념의 리스트.\n",
    "# primal_links = Plasmo.LinkConstraintRef[]\n",
    "for (i,bus) in enumerate(buses)\n",
    "    va_lower = bus.ext[:va_lower]\n",
    "    va_upper = bus.ext[:va_upper]\n",
    "\n",
    "    gen_lower = bus.ext[:gen_lower]\n",
    "    gen_upper = bus.ext[:gen_upper]\n",
    "\n",
    "    Plasmo.@variable(bus, va_lower <= va <= va_upper, start=0) # voltage angle variable.\n",
    "    # TODO: 아래 변수가 의미하는 것이 뭔지 이해 필요!\n",
    "    # 일단 active power인 건 알겠음.. => Gen이 있으면 3종류의 active power, 없으면 2종류의 active power?\n",
    "    Plasmo.@variable(bus, P[j=1:ngens[bus]], start=0)\n",
    "    for j=1:length(P)\n",
    "        Plasmo.set_lower_bound(P[j],gen_lower[j])\n",
    "        Plasmo.set_upper_bound(P[j],gen_upper[j])\n",
    "    end\n",
    "    # NOTE: 위에 loop에서 transmission line node에 대한 변수 및 제약 조건을 설정해줬기 때문에, 자동으로 node_map_in에 있는 value 값들도 동기화가 됨!\n",
    "    lines_in = node_map_in[bus]\n",
    "    lines_out = node_map_out[bus]\n",
    "\n",
    "    # NOTE: DC/AC OPF에서의 link constraints 선언 방식!! <= 다른 방식은 없는지?\n",
    "    Plasmo.@variable(bus, power_in[1:length(lines_in)])\n",
    "    Plasmo.@variable(bus, power_out[1:length(lines_out)])\n",
    "\n",
    "    for (j,line) in enumerate(lines_in)\n",
    "        link = Plasmo.@linkconstraint(powergrid, bus[:power_in][j] == line[:flow])\n",
    "        push!(dual_links,link)\n",
    "    end\n",
    "    for (j,line) in enumerate(lines_out)\n",
    "        link = Plasmo.@linkconstraint(powergrid, bus[:power_out][j] == line[:flow])\n",
    "        push!(dual_links,link)\n",
    "    end\n",
    "\n",
    "\n",
    "    ## Julia error: sum of the empty vector is not zero...\n",
    "    if typeof(power_in) == Vector{Any}\n",
    "        # bus[:power_in] = 0\n",
    "        power_in = 0\n",
    "    end\n",
    "    if typeof(power_out) == Vector{Any}\n",
    "        # bus[:power_out] = 0\n",
    "        power_out = 0\n",
    "    end\n",
    "    Plasmo.@constraint(bus, power_balance, sum(bus[:P][j] for j=1:ngens[bus]) + sum(power_in) - sum(power_out) - load_map[bus] == 0) # power balance equation constraint.\n",
    "    Plasmo.@objective(bus, Min, sum(bus.ext[:c1][j]*bus[:P][j] + bus.ext[:c2][j]*bus[:P][j]^2 for j=1:ngens[bus]))\n",
    "end\n",
    "\n",
    "Plasmo.@linkconstraint(powergrid, line_coupling_i[line = lines], line[:va_i] == line_map[line][1][:va])\n",
    "Plasmo.@linkconstraint(powergrid, line_coupling_j[line = lines], line[:va_j] == line_map[line][2][:va])\n",
    "primal_links = [line_coupling_i.data ; line_coupling_j.data]"
   ]
  },
  {
   "cell_type": "markdown",
   "metadata": {},
   "source": [
    "* Visualization of power network\n",
    "    * 엄청 오래 걸리는데... 다른 패키지로 시각화 하는거 알아보기"
   ]
  },
  {
   "cell_type": "code",
   "execution_count": null,
   "metadata": {},
   "outputs": [],
   "source": []
  },
  {
   "cell_type": "markdown",
   "metadata": {},
   "source": [
    "* Partitioning the hypergraph → Graph aggregation to make coarse power network.\n",
    "    * Then, how many partitions should I need?\n",
    "    * Is there some reasonable partitioning skill? (in terms of **1. coupling (subproblem block들간 connectivity; sparse 할 수록 좋은거? or there is tradeoff?), 2. imbalance, and 3. memory use**)\n",
    "        * KaHyPar.jl "
   ]
  },
  {
   "cell_type": "code",
   "execution_count": 48,
   "metadata": {},
   "outputs": [],
   "source": []
  },
  {
   "cell_type": "code",
   "execution_count": 49,
   "metadata": {},
   "outputs": [],
   "source": []
  },
  {
   "cell_type": "code",
   "execution_count": 42,
   "metadata": {},
   "outputs": [],
   "source": []
  },
  {
   "cell_type": "markdown",
   "metadata": {},
   "source": [
    "* Solve in a Centralized way"
   ]
  },
  {
   "cell_type": "code",
   "execution_count": 7,
   "metadata": {},
   "outputs": [
    {
     "name": "stdout",
     "output_type": "stream",
     "text": [
      "This is MadNLP version v0.8.0, running with ma27\n",
      "\n",
      "Number of nonzeros in constraint Jacobian............:   233032\n",
      "Number of nonzeros in Lagrangian Hessian.............:    42621\n",
      "\n",
      "Total number of variables............................:   100202\n",
      "                     variables with only lower bounds:        0\n",
      "                variables with lower and upper bounds:    19927\n",
      "                     variables with only upper bounds:        0\n",
      "Total number of equality constraints.................:    80276\n",
      "Total number of inequality constraints...............:    14207\n",
      "        inequality constraints with only lower bounds:        0\n",
      "   inequality constraints with lower and upper bounds:    14207\n",
      "        inequality constraints with only upper bounds:        0\n",
      "\n",
      "iter    objective    inf_pr   inf_du lg(mu)  ||d||  lg(rg) alpha_du alpha_pr  ls\n",
      "   0  1.8807565e+08 2.84e+01 1.00e+02  -1.0 0.00e+00    -  0.00e+00 0.00e+00   0\n",
      "   1  2.2925350e+07 2.81e+01 8.88e+01  -1.0 5.00e+01    -  1.23e-01 9.93e-03h  1\n",
      "   2  2.2593546e+07 2.08e+01 8.91e+01  -1.0 3.76e+01    -  1.98e-03 2.58e-01h  1\n",
      "   3  2.6492990e+07 1.38e+01 7.92e+01  -1.0 2.75e+01    -  1.15e-01 3.37e-01h  1\n",
      "   4  2.4044013e+07 8.60e+00 6.08e+01  -1.0 1.99e+01    -  2.31e-01 3.78e-01h  1\n",
      "   5  2.8537911e+07 1.56e+00 2.48e+01  -1.0 1.21e+01    -  5.88e-01 8.18e-01h  1\n",
      "   6  2.7245628e+07 7.47e-01 1.73e+01  -1.0 4.99e+00    -  3.01e-01 5.22e-01h  1\n",
      "   7  2.6570935e+07 2.09e-01 1.13e+01  -1.0 6.96e+00    -  3.50e-01 7.20e-01h  1\n",
      "   8  2.6349962e+07 9.01e-02 7.49e+00  -1.0 4.95e+00    -  3.40e-01 5.68e-01h  1\n",
      "   9  2.6190834e+07 4.49e-02 3.32e+00  -1.0 3.22e+01    -  5.56e-01 5.02e-01h  1\n",
      "iter    objective    inf_pr   inf_du lg(mu)  ||d||  lg(rg) alpha_du alpha_pr  ls\n",
      "  10  2.6046176e+07 9.78e-03 1.22e+00  -1.0 7.93e+00    -  6.33e-01 7.82e-01h  1\n",
      "  11  2.5992917e+07 2.18e-03 3.13e-02  -1.0 9.33e+00    -  1.00e+00 7.77e-01h  1\n",
      "  12  1.3163311e+07 6.59e-04 8.15e-02  -2.5 7.88e+00    -  5.52e-01 6.98e-01f  1\n",
      "  13  9.6102499e+06 2.49e-04 1.43e-02  -2.5 3.90e+00    -  6.63e-01 6.23e-01f  1\n",
      "  14  7.7759969e+06 4.37e-05 4.70e-02  -2.5 8.03e+00    -  5.97e-01 8.24e-01f  1\n",
      "  15  7.3644686e+06 3.87e-14 1.36e-13  -2.5 2.30e+00    -  1.00e+00 1.00e+00f  1\n",
      "  16  6.8430931e+06 4.56e-14 7.93e-03  -3.8 2.13e+00    -  7.25e-01 9.81e-01f  1\n",
      "  17  6.8309650e+06 4.09e-14 6.21e-04  -3.8 9.75e-01    -  9.29e-01 1.00e+00h  1\n",
      "  18  6.8032906e+06 3.86e-14 7.17e-04  -5.7 4.61e-01    -  7.35e-01 9.34e-01f  1\n",
      "  19  6.8012915e+06 3.93e-14 1.85e-04  -5.7 1.91e-01    -  9.19e-01 1.00e+00h  1\n",
      "iter    objective    inf_pr   inf_du lg(mu)  ||d||  lg(rg) alpha_du alpha_pr  ls\n",
      "  20  6.8012862e+06 4.11e-14 8.42e-14  -5.7 8.23e-02    -  1.00e+00 1.00e+00h  1\n",
      "  21  6.8009256e+06 3.74e-14 2.48e-05  -8.6 3.69e-02    -  9.36e-01 9.85e-01h  1\n",
      "  22  6.8009198e+06 4.63e-14 3.71e-06  -8.6 1.69e-02    -  9.86e-01 1.00e+00h  1\n",
      "  23  6.8009198e+06 4.41e-14 9.38e-15  -8.6 8.24e-03    -  1.00e+00 1.00e+00h  1\n",
      "  24  6.8009198e+06 4.63e-14 7.11e-15  -8.6 3.84e-03    -  1.00e+00 1.00e+00h  1\n",
      "  25  6.8009198e+06 3.76e-14 9.44e-15  -8.6 1.40e-03    -  1.00e+00 1.00e+00h  1\n",
      "\n",
      "Number of Iterations....: 25\n",
      "\n",
      "                                   (scaled)                 (unscaled)\n",
      "Objective...............:   6.8009197883268507e+02    6.8009197883268502e+06\n",
      "Dual infeasibility......:   9.4368957093138306e-15    9.4368957093138306e-11\n",
      "Constraint violation....:   3.7623847703297584e-14    3.7623847703297584e-14\n",
      "Complementarity.........:   7.6284156503911359e-13    7.6284156503911355e-09\n",
      "Overall NLP error.......:   7.6284156503911355e-09    7.6284156503911355e-09\n",
      "\n",
      "Number of objective function evaluations             = 26\n",
      "Number of objective gradient evaluations             = 26\n",
      "Number of constraint evaluations                     = 26\n",
      "Number of constraint Jacobian evaluations            = 1\n",
      "Number of Lagrangian Hessian evaluations             = 25\n",
      "Total wall-clock secs in solver (w/o fun. eval./lin. alg.)  = 10.327\n",
      "Total wall-clock secs in linear solver                      =  1.273\n",
      "Total wall-clock secs in NLP function evaluations           =  0.164\n",
      "Total wall-clock secs                                       = 11.765\n",
      "\n",
      "EXIT: Optimal Solution Found (tol = 1.0e-08).\n"
     ]
    }
   ],
   "source": [
    "Plasmo.set_optimizer(powergrid, Ipopt.Optimizer)\n",
    "Plasmo.set_optimizer_attribute(powergrid, \"hsllib\", HSL_jll.libhsl_path)\n",
    "Plasmo.set_optimizer_attribute(powergrid, \"linear_solver\", \"ma27\")\n",
    "\n",
    "# Plasmo.set_optimizer(powergrid, ()->MadNLP.Optimizer(linear_solver=Ma27Solver))\n",
    "# Plasmo.set_optimizer(powergrid, Gurobi.Optimizer)\n",
    "\n",
    "Plasmo.optimize!(powergrid)"
   ]
  },
  {
   "cell_type": "code",
   "execution_count": 8,
   "metadata": {},
   "outputs": [
    {
     "data": {
      "text/plain": [
       "6.80091978832685e6"
      ]
     },
     "metadata": {},
     "output_type": "display_data"
    }
   ],
   "source": [
    "# Note that obj function is combined with generation cost and penalty term.\n",
    "cost = JuMP.objective_value(powergrid)"
   ]
  },
  {
   "cell_type": "code",
   "execution_count": 9,
   "metadata": {},
   "outputs": [],
   "source": [
    "gen_cost = 0\n",
    "for n = 1:N_buses\n",
    "    bus_node = Plasmo.all_nodes(powergrid)[n]\n",
    "    \n",
    "    node_gen_P = JuMP.value.(bus_node[:P]) # each generation of bus (for PQ bus, P is automatically 0.)\n",
    "    node_gen_cost1 = bus_node.ext[:c1] # gen cost 1\n",
    "    node_gen_cost2 = bus_node.ext[:c2] # gen cost 2\n",
    "    \n",
    "    gen_cost += node_gen_cost2'*(node_gen_P.^2) + node_gen_cost1'*node_gen_P\n",
    "end"
   ]
  },
  {
   "cell_type": "code",
   "execution_count": 10,
   "metadata": {},
   "outputs": [
    {
     "data": {
      "text/plain": [
       "6.112752694141838e6"
      ]
     },
     "metadata": {},
     "output_type": "display_data"
    }
   ],
   "source": [
    "gen_cost"
   ]
  },
  {
   "cell_type": "code",
   "execution_count": null,
   "metadata": {},
   "outputs": [],
   "source": []
  },
  {
   "cell_type": "code",
   "execution_count": null,
   "metadata": {},
   "outputs": [],
   "source": []
  }
 ],
 "metadata": {
  "kernelspec": {
   "display_name": "Julia 1.10.2",
   "language": "julia",
   "name": "julia-1.10"
  },
  "language_info": {
   "file_extension": ".jl",
   "mimetype": "application/julia",
   "name": "julia",
   "version": "1.10.2"
  }
 },
 "nbformat": 4,
 "nbformat_minor": 2
}
