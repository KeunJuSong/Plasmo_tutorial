{
 "cells": [
  {
   "cell_type": "markdown",
   "metadata": {},
   "source": [
    "# Plasmo.jl for DCOPF\n",
    "\n",
    "* Centralized way"
   ]
  },
  {
   "cell_type": "markdown",
   "metadata": {},
   "source": [
    "* Load data"
   ]
  },
  {
   "cell_type": "code",
   "execution_count": 1,
   "metadata": {},
   "outputs": [],
   "source": [
    "using LightGraphs, Random, LinearAlgebra, Printf, DelimitedFiles, SparseArrays, PowerModels"
   ]
  },
  {
   "cell_type": "code",
   "execution_count": 2,
   "metadata": {},
   "outputs": [
    {
     "name": "stdout",
     "output_type": "stream",
     "text": [
      "\u001b[32m[info | PowerModels]: Suppressing information and warning messages for the rest of this session.  Use the Memento package for more fine-grained control of logging.\u001b[39m\n"
     ]
    }
   ],
   "source": [
    "PowerModels.silence()"
   ]
  },
  {
   "cell_type": "code",
   "execution_count": 3,
   "metadata": {},
   "outputs": [
    {
     "data": {
      "text/plain": [
       "get_data (generic function with 1 method)"
      ]
     },
     "metadata": {},
     "output_type": "display_data"
    }
   ],
   "source": [
    "function get_data(path)\n",
    "    data = PowerModels.parse_file(path)\n",
    "    A = PowerModels.calc_susceptance_matrix(data)\n",
    "\n",
    "    args = Dict()\n",
    "    args[:N] = size(A.matrix, 1) # number of buses\n",
    "    args[:y] = A.matrix\n",
    "    args[:del] = spzeros(args[:N],args[:N]) # \n",
    "    args[:g] = LightGraphs.Graph(args[:N]) # the lightgraph; assign the nodes\n",
    "    for e in values(data[\"branch\"])\n",
    "        i = A.bus_to_idx[e[\"f_bus\"]]\n",
    "        j = A.bus_to_idx[e[\"t_bus\"]]\n",
    "        LightGraphs.add_edge!(args[:g],i,j) # assign the edges.\n",
    "        args[:del][i,j] = e[\"angmin\"]\n",
    "        args[:del][j,i] = e[\"angmin\"]\n",
    "    end\n",
    "\n",
    "    # voltage angle limits\n",
    "    args[:val] = -ones(args[:N])*Inf # lower bound\n",
    "    args[:vau] = ones(args[:N])*Inf # upper bound\n",
    "    args[:ref] = A.bus_to_idx[PowerModels.reference_bus(data)[\"index\"]] # reference buses\n",
    "    args[:val][args[:ref]] = 0; args[:vau][args[:ref]] = 0 # the voltage angle of reference bus is 0.\n",
    "\n",
    "\n",
    "    gens = PowerModels.bus_gen_lookup(data[\"gen\"], data[\"bus\"]) # bus index 중 generator bus index에 대해서만 관련 PV bus 정보 제공하는 함수. (vg, mbase, source_id, pg, model, shutdown, startup, index, cost, qg)\n",
    "    # generator cost coefficients\n",
    "    args[:c1] = [[1e6, -1e6] for i=1:args[:N]]\n",
    "    args[:c2] = [[.0, .0] for i=1:args[:N]]\n",
    "    args[:sl] = [[.0,-1e2] for i=1:args[:N]] # generator power min?\n",
    "    args[:su] = [[1e2,.0] for i=1:args[:N]] # generator power max?\n",
    "    args[:ng] = 2*ones(Int64,args[:N]) # number of generators? <= TODO: Need to check this.\n",
    "\n",
    "    for i=1:args[:N] # for each bus\n",
    "        bus = A.idx_to_bus[i] # return to the bus index from the index of matrix.\n",
    "        for j=1:length(gens[bus]) # 해당 PV bus에 있는 발전기 개수 별 loop?\n",
    "            if length(gens[bus][j][\"cost\"]) != 0\n",
    "                # push! <= list append와 같은 개념\n",
    "                push!(args[:c1][i], gens[bus][j][\"cost\"][1])\n",
    "                push!(args[:c2][i], gens[bus][j][\"cost\"][2])\n",
    "                push!(args[:sl][i], gens[bus][j][\"pmin\"])\n",
    "                push!(args[:su][i], gens[bus][j][\"pmax\"])\n",
    "                args[:ng][i] += 1\n",
    "            end\n",
    "        end\n",
    "    end\n",
    "\n",
    "    args[:Ng] = sum(args[:ng]) # <= TODO: Need to check this.\n",
    "\n",
    "    # PQ bus의 Pd 저장?\n",
    "    args[:sd] = zeros(args[:N])\n",
    "    for v in values(data[\"load\"])\n",
    "        args[:sd][A.bus_to_idx[v[\"load_bus\"]]] = v[\"pd\"]\n",
    "    end\n",
    "\n",
    "    return args\n",
    "end"
   ]
  },
  {
   "cell_type": "code",
   "execution_count": 5,
   "metadata": {},
   "outputs": [
    {
     "data": {
      "text/plain": [
       "Dict{Any, Any} with 14 entries:\n",
       "  :su  => [[100.0, 0.0], [100.0, 0.0, 1.0], [100.0, 0.0], [100.0, 0.0], [100.0,…\n",
       "  :vau => [Inf, Inf, Inf, Inf, Inf, Inf, Inf, Inf, Inf, Inf  …  Inf, Inf, Inf, …\n",
       "  :c1  => [[1.0e6, -1.0e6], [1.0e6, -1.0e6, 4814.49], [1.0e6, -1.0e6], [1.0e6, …\n",
       "  :c2  => [[0.0, 0.0], [0.0, 0.0, 0.0], [0.0, 0.0], [0.0, 0.0], [0.0, 0.0], [0.…\n",
       "  :ng  => [2, 3, 2, 2, 2, 3, 2, 3, 2, 2  …  2, 2, 2, 3, 2, 2, 3, 3, 2, 2]\n",
       "  :N   => 9241\n",
       "  :val => [-Inf, -Inf, -Inf, -Inf, -Inf, -Inf, -Inf, -Inf, -Inf, -Inf  …  -Inf,…\n",
       "  :ref => 4231\n",
       "  :g   => {9241, 14207} undirected simple Int64 graph\n",
       "  :sd  => [3.784, 0.0, 1.51, 1.7141, 0.4595, 0.0, 0.3103, 0.0, 0.143, 1.34  …  …\n",
       "  :y   => sparse([1, 2316, 7639, 7835, 2, 2447, 4898, 3, 8189, 8676  …  9237, 1…\n",
       "  :del => sparse([2316, 7639, 7835, 2447, 4898, 8189, 8676, 1813, 5241, 9018  ……\n",
       "  :Ng  => 19927\n",
       "  :sl  => [[0.0, -100.0], [0.0, -100.0, -1.0853], [0.0, -100.0], [0.0, -100.0],…"
      ]
     },
     "metadata": {},
     "output_type": "display_data"
    }
   ],
   "source": [
    "path = \"/home/kjsong/workspace/Plasmo_tutorial/data/pglib_opf_case9241_pegase.m\"\n",
    "# \"/home/kjsong/workspace_skj/Plasmo_tutorial/data/pglib_opf_case9241_pegase.m\"\n",
    "# /home/kjsong/workspace/Plasmo_tutorial/data/pglib_opf_case9241_pegase.m\n",
    "args = get_data(path)"
   ]
  },
  {
   "cell_type": "markdown",
   "metadata": {},
   "source": [
    "* Powergrid\n",
    "    * How to model the DCOPF in terms of graph structure using Plasmo.jl (**Most important part**)\n",
    "    * TODO: ACOPF로 문제 변경 시 달라지는 점이 무엇인지 파악"
   ]
  },
  {
   "cell_type": "code",
   "execution_count": 6,
   "metadata": {},
   "outputs": [],
   "source": [
    "using Plasmo"
   ]
  },
  {
   "cell_type": "code",
   "execution_count": 7,
   "metadata": {},
   "outputs": [
    {
     "data": {
      "text/plain": [
       "28414-element Vector{LinkConstraintRef}:\n",
       " line_coupling_i[OptiNode w/ 3 Variable(s) and 2 Constraint(s)]: lines[1][:va_i] - buses[1][:va] = 0\n",
       " line_coupling_i[OptiNode w/ 3 Variable(s) and 2 Constraint(s)]: lines[2][:va_i] - buses[1][:va] = 0\n",
       " line_coupling_i[OptiNode w/ 3 Variable(s) and 2 Constraint(s)]: lines[3][:va_i] - buses[1][:va] = 0\n",
       " line_coupling_i[OptiNode w/ 3 Variable(s) and 2 Constraint(s)]: lines[4][:va_i] - buses[2][:va] = 0\n",
       " line_coupling_i[OptiNode w/ 3 Variable(s) and 2 Constraint(s)]: lines[5][:va_i] - buses[2][:va] = 0\n",
       " line_coupling_i[OptiNode w/ 3 Variable(s) and 2 Constraint(s)]: lines[6][:va_i] - buses[3][:va] = 0\n",
       " line_coupling_i[OptiNode w/ 3 Variable(s) and 2 Constraint(s)]: lines[7][:va_i] - buses[3][:va] = 0\n",
       " line_coupling_i[OptiNode w/ 3 Variable(s) and 2 Constraint(s)]: lines[8][:va_i] - buses[4][:va] = 0\n",
       " line_coupling_i[OptiNode w/ 3 Variable(s) and 2 Constraint(s)]: lines[9][:va_i] - buses[4][:va] = 0\n",
       " line_coupling_i[OptiNode w/ 3 Variable(s) and 2 Constraint(s)]: lines[10][:va_i] - buses[4][:va] = 0\n",
       " ⋮\n",
       " line_coupling_j[OptiNode w/ 3 Variable(s) and 2 Constraint(s)]: lines[14199][:va_j] - buses[9094][:va] = 0\n",
       " line_coupling_j[OptiNode w/ 3 Variable(s) and 2 Constraint(s)]: lines[14200][:va_j] - buses[9203][:va] = 0\n",
       " line_coupling_j[OptiNode w/ 3 Variable(s) and 2 Constraint(s)]: lines[14201][:va_j] - buses[9088][:va] = 0\n",
       " line_coupling_j[OptiNode w/ 3 Variable(s) and 2 Constraint(s)]: lines[14202][:va_j] - buses[9067][:va] = 0\n",
       " line_coupling_j[OptiNode w/ 3 Variable(s) and 2 Constraint(s)]: lines[14203][:va_j] - buses[9109][:va] = 0\n",
       " line_coupling_j[OptiNode w/ 3 Variable(s) and 2 Constraint(s)]: lines[14204][:va_j] - buses[9155][:va] = 0\n",
       " line_coupling_j[OptiNode w/ 3 Variable(s) and 2 Constraint(s)]: lines[14205][:va_j] - buses[9188][:va] = 0\n",
       " line_coupling_j[OptiNode w/ 3 Variable(s) and 2 Constraint(s)]: lines[14206][:va_j] - buses[9148][:va] = 0\n",
       " line_coupling_j[OptiNode w/ 3 Variable(s) and 2 Constraint(s)]: lines[14207][:va_j] - buses[9176][:va] = 0"
      ]
     },
     "metadata": {},
     "output_type": "display_data"
    }
   ],
   "source": [
    "# 뭐에 대한 parameter?\n",
    "gamma = 1e5 # the regularization parameter of voltage angle difference. \n",
    "oms = [1, 4, 7]\n",
    "max_iter = 1000\n",
    "scl = 1\n",
    "\n",
    "g = args[:g] # LightGraphs type\n",
    "N_buses = LightGraphs.nv(g) # get the number of nodes in graph.\n",
    "N_lines = LightGraphs.ne(g) # get the number of edges in graph.\n",
    "y = args[:y] # get the Y bus matrix \n",
    "del = args[:del] # get the voltage angle difference lower bound matrix\n",
    "\n",
    "powergrid = Plasmo.OptiGraph()\n",
    "# 여기가 MAIN PART. i.e., power network 최적화 문제를 graph로 어떻게 모델링 하는지.\n",
    "Plasmo.@optinode(powergrid, buses[1:N_buses]) # create node buses\n",
    "Plasmo.@optinode(powergrid, lines[1:N_lines]) # create transmission lines <= 일반적으로 power network의 line은 edge로 생각하겠지만, 여기서는 최적화 문제를 graph로 표현할때 line에 대한 variable (branch power flow)이 있기 때문에 node로 모델링.\n",
    "\n",
    "# 각 bus별로 from bus인지 to bus인지 각 line에 따라 정해져 있는데, 이를 bus 관점에서 line을 바라보는, 즉 어떤 line이 bus에 대해서 들어오는 line인지 아님 나가는 line인지를 볼 수 있는 dict.\n",
    "node_map_in = Dict((bus, Plasmo.OptiNode[]) for bus in buses) \n",
    "node_map_out = Dict((bus, Plasmo.OptiNode[]) for bus in buses)\n",
    "\n",
    "line_map = Dict() # 각 transmission line에 대해 연결된 bus pair; element type이 graph의 node로 모델링된 최적화 변수들임.\n",
    "edge_map = Dict() # 각 transmission line이 어떤 bus pair에 해당되어 있는지에 대한 dict.\n",
    "B = Dict() # 각 transmission line의 susceptance\n",
    "angle_rate = Dict() # 각 transmission line의 bus pair에 대한 voltage angle difference limit\n",
    "ngens = Dict()\n",
    "load_map = Dict()\n",
    "\n",
    "for (i,edge) in enumerate(LightGraphs.edges(g))\n",
    "    line = lines[i]\n",
    "    v_from = edge.src # <= LightGraphs package의 method: edge에 해당하는 node들 중 source node 불러오기\n",
    "    v_to = edge.dst # <= LightGraphs package의 method: edge에 해당하는 node들 중 destination node 불러오기\n",
    "\n",
    "    edge_map[(v_from, v_to)] = line\n",
    "\n",
    "    B[line] = y[v_from,v_to]\n",
    "    angle_rate[line] = del[v_from,v_to]\n",
    "\n",
    "    bus_from = buses[v_from]\n",
    "    bus_to = buses[v_to]\n",
    "    bus_vec = [bus_from, bus_to] # vector form\n",
    "    line_map[line] = bus_vec \n",
    "\n",
    "    push!(node_map_in[bus_to], line)\n",
    "    push!(node_map_out[bus_from], line)\n",
    "end\n",
    "\n",
    "for i = 1:N_buses\n",
    "    neighs = LightGraphs.neighbors(g,i)\n",
    "    bus = buses[i]\n",
    "\n",
    "    ngens[bus] = args[:ng][i] # 이건 뭘 의미하는건지...\n",
    "    load_map[bus] = args[:sd][i] # Bus 별 Pd 값 저장\n",
    "\n",
    "    # Plasmo OptiNode(i.e., power network의 bus 및 line)에 변수 및 제약조건 설정에 필요한 값 할당.\n",
    "    bus.ext[:c1] = args[:c1][i] \n",
    "    bus.ext[:c2] = args[:c2][i]\n",
    "    bus.ext[:va_lower] = args[:val][i]\n",
    "    bus.ext[:va_upper] = args[:vau][i]\n",
    "    bus.ext[:gen_lower] = args[:sl][i]\n",
    "    bus.ext[:gen_upper] = args[:su][i]\n",
    "end\n",
    "\n",
    "for line in lines\n",
    "    bus_from = line_map[line][1]\n",
    "    bus_to = line_map[line][2]\n",
    "    Plasmo.@variable(line, va_i, start=0)\n",
    "    Plasmo.@variable(line, va_j, start=0)\n",
    "    Plasmo.@variable(line, flow, start=0) # i.e., branch power flow\n",
    "    Plasmo.@constraint(line, flow==B[line]*(va_i - va_j)) # power flow equation constraint.\n",
    "    delta = angle_rate[line]\n",
    "    Plasmo.@constraint(line, delta <= (va_i - va_j) <= -delta) # voltage angle difference constraint.\n",
    "    Plasmo.@objective(line, Min, 1/4*gamma*(va_i - va_j)^2) # penalty term of objective function (18a).\n",
    "end\n",
    "\n",
    "dual_links = Plasmo.LinkConstraintRef[] # link constraints들을 저장하고 관리할 수 있는 storage 개념의 리스트.\n",
    "# primal_links = Plasmo.LinkConstraintRef[]\n",
    "for (i,bus) in enumerate(buses)\n",
    "    va_lower = bus.ext[:va_lower]\n",
    "    va_upper = bus.ext[:va_upper]\n",
    "\n",
    "    gen_lower = bus.ext[:gen_lower]\n",
    "    gen_upper = bus.ext[:gen_upper]\n",
    "\n",
    "    Plasmo.@variable(bus, va_lower <= va <= va_upper, start=0) # voltage angle variable.\n",
    "    # TODO: 아래 변수가 의미하는 것이 뭔지 이해 필요!\n",
    "    # 일단 active power인 건 알겠음.. => Gen이 있으면 3종류의 active power, 없으면 2종류의 active power?\n",
    "    Plasmo.@variable(bus, P[j=1:ngens[bus]], start=0)\n",
    "    for j=1:length(P)\n",
    "        Plasmo.set_lower_bound(P[j],gen_lower[j])\n",
    "        Plasmo.set_upper_bound(P[j],gen_upper[j])\n",
    "    end\n",
    "    # NOTE: 위에 loop에서 transmission line node에 대한 변수 및 제약 조건을 설정해줬기 때문에, 자동으로 node_map_in에 있는 value 값들도 동기화가 됨!\n",
    "    lines_in = node_map_in[bus]\n",
    "    lines_out = node_map_out[bus]\n",
    "\n",
    "    # NOTE: DC/AC OPF에서의 link constraints 선언 방식!! <= 다른 방식은 없는지?\n",
    "    Plasmo.@variable(bus, power_in[1:length(lines_in)])\n",
    "    Plasmo.@variable(bus, power_out[1:length(lines_out)])\n",
    "\n",
    "    for (j,line) in enumerate(lines_in)\n",
    "        link = Plasmo.@linkconstraint(powergrid, bus[:power_in][j] == line[:flow])\n",
    "        push!(dual_links,link)\n",
    "    end\n",
    "    for (j,line) in enumerate(lines_out)\n",
    "        link = Plasmo.@linkconstraint(powergrid, bus[:power_out][j] == line[:flow])\n",
    "        push!(dual_links,link)\n",
    "    end\n",
    "\n",
    "\n",
    "    ## Julia error: sum of the empty vector is not zero...\n",
    "    if typeof(power_in) == Vector{Any}\n",
    "        # bus[:power_in] = 0\n",
    "        power_in = 0\n",
    "    end\n",
    "    if typeof(power_out) == Vector{Any}\n",
    "        # bus[:power_out] = 0\n",
    "        power_out = 0\n",
    "    end\n",
    "    Plasmo.@constraint(bus, power_balance, sum(bus[:P][j] for j=1:ngens[bus]) + sum(power_in) - sum(power_out) - load_map[bus] == 0) # power balance equation constraint.\n",
    "    Plasmo.@objective(bus, Min, sum(bus.ext[:c1][j]*bus[:P][j] + bus.ext[:c2][j]*bus[:P][j]^2 for j=1:ngens[bus]))\n",
    "end\n",
    "\n",
    "Plasmo.@linkconstraint(powergrid, line_coupling_i[line = lines], line[:va_i] == line_map[line][1][:va])\n",
    "Plasmo.@linkconstraint(powergrid, line_coupling_j[line = lines], line[:va_j] == line_map[line][2][:va])\n",
    "primal_links = [line_coupling_i.data ; line_coupling_j.data]"
   ]
  },
  {
   "cell_type": "markdown",
   "metadata": {},
   "source": [
    "* Solve in a Centralized way"
   ]
  },
  {
   "cell_type": "code",
   "execution_count": 30,
   "metadata": {},
   "outputs": [],
   "source": [
    "using Ipopt, Gurobi, JuMP\n",
    "using MadNLP, MadNLPHSL\n",
    "\n",
    "import HSL_jll"
   ]
  },
  {
   "cell_type": "code",
   "execution_count": 31,
   "metadata": {},
   "outputs": [
    {
     "name": "stdout",
     "output_type": "stream",
     "text": [
      "Set parameter WLSAccessID\n",
      "Set parameter WLSSecret\n",
      "Set parameter LicenseID to value 2439995\n",
      "Academic license 2439995 - for non-commercial use only - registered to kj___@sogang.ac.kr\n",
      "Gurobi Optimizer version 11.0.0 build v11.0.0rc2 (linux64 - \"Ubuntu 22.04.4 LTS\")\n",
      "\n",
      "CPU model: Intel(R) Core(TM) i7-1065G7 CPU @ 1.30GHz, instruction set [SSE2|AVX|AVX2|AVX512]\n",
      "Thread count: 4 physical cores, 8 logical processors, using up to 8 threads\n",
      "\n",
      "Academic license 2439995 - for non-commercial use only - registered to kj___@sogang.ac.kr\n",
      "Optimize a model with 94483 rows, 114410 columns and 247239 nonzeros\n",
      "Model fingerprint: 0x3231521f\n",
      "Model has 42621 quadratic objective terms\n",
      "Coefficient statistics:\n",
      "  Matrix range     [8e-03, 2e+04]\n",
      "  Objective range  [1e+02, 1e+06]\n",
      "  QObjective range [5e+04, 1e+05]\n",
      "  Bounds range     [8e-03, 1e+02]\n",
      "  RHS range        [1e-04, 3e+01]\n",
      "Presolve removed 51871 rows and 51872 columns\n",
      "Presolve time: 0.21s\n",
      "Presolved: 42612 rows, 62538 columns, 157689 nonzeros\n",
      "Presolved model has 42611 quadratic objective terms\n",
      "Ordering time: 0.06s\n",
      "\n",
      "Barrier statistics:\n",
      " Free vars  : 42474\n",
      " AA' NZ     : 2.651e+05\n",
      " Factor NZ  : 1.042e+06 (roughly 60 MB of memory)\n",
      " Factor Ops : 5.943e+07 (less than 1 second per iteration)\n",
      " Threads    : 4\n",
      "\n",
      "                  Objective                Residual\n",
      "Iter       Primal          Dual         Primal    Dual     Compl     Time\n",
      "   0   1.07351068e+12 -2.64520615e+14  8.00e+03 1.12e+06  1.13e+09     0s\n",
      "   1   9.69762716e+11 -2.73359943e+14  2.77e+03 3.90e+05  4.12e+08     0s\n",
      "   2   9.37349800e+11 -3.41708387e+14  8.79e+02 1.24e+05  1.71e+08     0s\n",
      "   3   9.17808584e+11 -3.31481386e+14  1.13e+01 1.60e+03  7.00e+06     1s\n",
      "   4   9.10858733e+11 -6.09487256e+13  6.87e-01 9.66e+01  9.34e+05     1s\n",
      "   5   8.69569422e+11 -3.17493148e+12  3.85e-02 5.41e+00  5.82e+04     1s\n",
      "   6   4.13669719e+11 -1.62644671e+12  1.02e-02 1.43e+00  2.92e+04     1s\n",
      "   7   1.23826975e+11 -4.17823284e+11  1.98e-03 2.79e-01  7.75e+03     1s\n",
      "   8   6.91340009e+10 -2.17730798e+11  7.24e-04 1.02e-01  4.10e+03     1s\n",
      "   9   1.22898082e+10 -3.33624083e+10  8.64e-06 1.01e-04  6.53e+02     1s\n",
      "  10   1.25057660e+09 -3.40815854e+09  6.10e-07 6.89e-06  6.66e+01     1s\n",
      "  11   2.71585305e+08 -7.05727236e+08  9.31e-08 1.02e-06  1.40e+01     1s\n",
      "  12   6.56011963e+07 -1.47133359e+08  1.56e-08 1.87e-07  3.04e+00     1s\n",
      "  13   3.25509133e+07 -5.95124705e+07  5.69e-09 6.36e-08  1.32e+00     1s\n",
      "  14   1.61834760e+07 -1.67596754e+07  1.49e-09 1.57e-08  4.71e-01     1s\n",
      "  15   9.25037591e+06  8.73195891e+05  2.11e-10 1.85e-09  1.20e-01     1s\n",
      "  16   7.33500973e+06  5.50461030e+06  2.05e-12 1.52e-09  2.62e-02     1s\n",
      "  17   6.89782893e+06  6.56567488e+06  2.53e-13 8.63e-10  4.75e-03     1s\n",
      "  18   6.81111229e+06  6.77675356e+06  1.39e-13 1.04e-09  4.91e-04     1s\n",
      "  19   6.80139913e+06  6.80038927e+06  2.84e-13 1.27e-09  1.44e-05     1s\n",
      "  20   6.80110553e+06  6.80110099e+06  1.12e-11 1.64e-09  6.68e-08     1s\n",
      "  21   6.80110416e+06  6.80110416e+06  1.43e-10 5.55e-10  3.01e-10     1s\n",
      "\n",
      "Barrier solved model in 21 iterations and 1.37 seconds (1.06 work units)\n",
      "Optimal objective 6.80110416e+06\n",
      "\n",
      "\n",
      "User-callback calls 266, time in user-callback 0.01 sec\n"
     ]
    }
   ],
   "source": [
    "# JuMP.set_optimizer(powergrid, Ipopt.Optimizer)\n",
    "# JuMP.set_optimizer(powergrid, ()->MadNLP.Optimizer(linear_solver=Ma57Solver))\n",
    "JuMP.set_optimizer(powergrid, Gurobi.Optimizer)\n",
    "\n",
    "JuMP.optimize!(powergrid)"
   ]
  },
  {
   "cell_type": "code",
   "execution_count": 32,
   "metadata": {},
   "outputs": [
    {
     "data": {
      "text/plain": [
       "6.8011041591796875e6"
      ]
     },
     "metadata": {},
     "output_type": "display_data"
    }
   ],
   "source": [
    "cost = JuMP.objective_value(powergrid)"
   ]
  },
  {
   "cell_type": "code",
   "execution_count": 33,
   "metadata": {},
   "outputs": [
    {
     "data": {
      "text/plain": [
       "Dict{String, Float64} with 100203 entries:\n",
       "  \"buses[8708][:P[2]]\"         => -7.10543e-14\n",
       "  \"lines[2645][:va_j]\"         => -0.639085\n",
       "  \"lines[1026][:flow]\"         => -0.0329363\n",
       "  \"buses[5112][:va]\"           => -0.556671\n",
       "  \"buses[8626][:P[2]]\"         => -7.10543e-14\n",
       "  \"buses[4056][:power_out[1]]\" => -1.0253\n",
       "  \"lines[3636][:va_j]\"         => -0.55959\n",
       "  \"lines[12512][:va_j]\"        => -0.830198\n",
       "  \"buses[7387][:P[2]]\"         => -7.10543e-14\n",
       "  \"lines[8070][:flow]\"         => 0.575689\n",
       "  \"buses[6657][:power_out[2]]\" => -5.26938\n",
       "  \"lines[2573][:va_j]\"         => -0.461642\n",
       "  \"buses[8301][:P[1]]\"         => 6.59087e-14\n",
       "  \"lines[6802][:va_i]\"         => -0.941918\n",
       "  \"buses[7230][:power_in[1]]\"  => -0.0018\n",
       "  \"lines[9261][:va_j]\"         => -0.817538\n",
       "  \"buses[1941][:power_out[3]]\" => 2.95853\n",
       "  \"buses[7904][:power_in[1]]\"  => 1.72608\n",
       "  \"buses[5600][:power_in[1]]\"  => 0.0944315\n",
       "  ⋮                            => ⋮"
      ]
     },
     "metadata": {},
     "output_type": "display_data"
    }
   ],
   "source": [
    "solution = Dict(\n",
    "    JuMP.name(v) => JuMP.value(v) for v in JuMP.all_variables(powergrid)\n",
    "    )"
   ]
  }
 ],
 "metadata": {
  "kernelspec": {
   "display_name": "Julia 1.10.2",
   "language": "julia",
   "name": "julia-1.10"
  },
  "language_info": {
   "file_extension": ".jl",
   "mimetype": "application/julia",
   "name": "julia",
   "version": "1.10.2"
  }
 },
 "nbformat": 4,
 "nbformat_minor": 2
}
